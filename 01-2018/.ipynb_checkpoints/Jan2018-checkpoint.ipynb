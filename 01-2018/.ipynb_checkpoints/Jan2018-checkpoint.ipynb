{
 "cells": [
  {
   "cell_type": "markdown",
   "metadata": {},
   "source": [
    "# January 2018 DataViz Challenge\n",
    "#### First attempt at using the Altair Python Package\n",
    "#### [Altair Documentation](https://altair-viz.github.io/index.html)"
   ]
  },
  {
   "cell_type": "markdown",
   "metadata": {},
   "source": [
    "**Import Python Packages**"
   ]
  },
  {
   "cell_type": "code",
   "execution_count": 21,
   "metadata": {},
   "outputs": [],
   "source": [
    "import altair as alt\n",
    "from altair.expr import datum, if_\n",
    "import pandas as pd\n",
    "import os"
   ]
  },
  {
   "cell_type": "markdown",
   "metadata": {},
   "source": [
    "**Import the Monthly Data**"
   ]
  },
  {
   "cell_type": "code",
   "execution_count": 37,
   "metadata": {},
   "outputs": [],
   "source": [
    "# Set the project working directory\n",
    "os.chdir(r'/home/ejreidelbach/projects/dataVizBattles/01-2018')\n",
    "\n",
    "# Import the monthly data\n",
    "df_jan = pd.read_csv('janData.csv')"
   ]
  },
  {
   "cell_type": "markdown",
   "metadata": {},
   "source": [
    "**Run a Frequency Count of all Variables in the Data**"
   ]
  },
  {
   "cell_type": "code",
   "execution_count": 12,
   "metadata": {},
   "outputs": [
    {
     "name": "stdout",
     "output_type": "stream",
     "text": [
      "-------- Algae --------\n",
      "Caloneis schroderi                        8\n",
      "Chaetoceros gracilis                      8\n",
      "Chaetoceros simplex                       8\n",
      "Chlorella ellipsoidea                     8\n",
      "Chlorella stigmatophora                   8\n",
      "Chlorella vulgaris\\n      (freshwater)    8\n",
      "Cyclotella sp. NUFP-9                     8\n",
      "Dunaniella tertiolecta                    8\n",
      "Hanzchia marina                           8\n",
      "Isochrysis aff. galbana                   8\n",
      "Isochrysis galbana                        8\n",
      "Nannochloris salina                       8\n",
      "Nannochlorois\\n      oculata              8\n",
      "Navicula incerta                          8\n",
      "Nitzscia sp.                              8\n",
      "Skeletonema costatum                      8\n",
      "Tetraselmus suecica                       8\n",
      "Thalassiosira fluviatilis                 8\n",
      "Thalassiosira sp.                         8\n",
      "Name: Algae, dtype: int64\n",
      "\n",
      "-------- Temperature --------\n",
      "5     38\n",
      "10    38\n",
      "25    38\n",
      "30    38\n",
      "Name: Temperature, dtype: int64\n",
      "\n",
      "-------- Lux --------\n",
      "2500    76\n",
      "5000    76\n",
      "Name: Lux, dtype: int64\n",
      "\n",
      "-------- Growth --------\n",
      "-0.68    1\n",
      "-0.67    1\n",
      "-0.62    1\n",
      "-0.57    1\n",
      "-0.50    1\n",
      "-0.36    1\n",
      "-0.34    1\n",
      "-0.32    1\n",
      "-0.29    2\n",
      "-0.25    1\n",
      "-0.21    1\n",
      "-0.20    1\n",
      "-0.19    1\n",
      "-0.18    1\n",
      "-0.17    1\n",
      "-0.14    1\n",
      "-0.12    1\n",
      "-0.10    3\n",
      "-0.07    2\n",
      "-0.06    1\n",
      "-0.05    1\n",
      "-0.04    1\n",
      "-0.03    2\n",
      "-0.02    1\n",
      "-0.01    3\n",
      " 0.00    4\n",
      " 0.01    3\n",
      " 0.02    1\n",
      " 0.03    2\n",
      " 0.04    3\n",
      "        ..\n",
      " 0.46    3\n",
      " 0.47    1\n",
      " 0.48    2\n",
      " 0.51    2\n",
      " 0.52    3\n",
      " 0.53    1\n",
      " 0.54    2\n",
      " 0.55    4\n",
      " 0.56    1\n",
      " 0.58    1\n",
      " 0.60    3\n",
      " 0.61    1\n",
      " 0.62    1\n",
      " 0.63    1\n",
      " 0.64    1\n",
      " 0.66    2\n",
      " 0.67    2\n",
      " 0.68    1\n",
      " 0.73    1\n",
      " 0.74    1\n",
      " 0.76    1\n",
      " 0.78    2\n",
      " 0.81    1\n",
      " 0.85    2\n",
      " 0.88    1\n",
      " 0.92    1\n",
      " 0.94    1\n",
      " 0.98    1\n",
      " 1.09    1\n",
      " 1.14    1\n",
      "Name: Growth, Length: 92, dtype: int64\n",
      "\n"
     ]
    }
   ],
   "source": [
    "for col in list(df_jan.columns):\n",
    "    print(\"-------- \" + col + \" --------\")\n",
    "    print(df_jan[col].value_counts().sort_index())\n",
    "    print('')"
   ]
  },
  {
   "cell_type": "markdown",
   "metadata": {},
   "source": [
    "**Create an initial Scatter Plot of the Data**"
   ]
  },
  {
   "cell_type": "code",
   "execution_count": 56,
   "metadata": {},
   "outputs": [
    {
     "data": {
      "application/vnd.vegalite.v2+json": {
       "$schema": "https://vega.github.io/schema/vega-lite/v2.4.3.json",
       "config": {
        "view": {
         "height": 300,
         "width": 400
        }
       },
       "data": {
        "values": [
         {
          "Algae": "Caloneis schroderi",
          "Growth": -0.5,
          "Lux": 2500,
          "Temperature": 5
         },
         {
          "Algae": "Caloneis schroderi",
          "Growth": 0.25,
          "Lux": 2500,
          "Temperature": 10
         },
         {
          "Algae": "Caloneis schroderi",
          "Growth": 0.3,
          "Lux": 2500,
          "Temperature": 25
         },
         {
          "Algae": "Caloneis schroderi",
          "Growth": 0.29,
          "Lux": 2500,
          "Temperature": 30
         },
         {
          "Algae": "Chaetoceros gracilis",
          "Growth": -0.05,
          "Lux": 2500,
          "Temperature": 5
         },
         {
          "Algae": "Chaetoceros gracilis",
          "Growth": 0.07,
          "Lux": 2500,
          "Temperature": 10
         },
         {
          "Algae": "Chaetoceros gracilis",
          "Growth": 0.39,
          "Lux": 2500,
          "Temperature": 25
         },
         {
          "Algae": "Chaetoceros gracilis",
          "Growth": 0.73,
          "Lux": 2500,
          "Temperature": 30
         },
         {
          "Algae": "Chaetoceros simplex",
          "Growth": -0.01,
          "Lux": 2500,
          "Temperature": 5
         },
         {
          "Algae": "Chaetoceros simplex",
          "Growth": 0.55,
          "Lux": 2500,
          "Temperature": 10
         },
         {
          "Algae": "Chaetoceros simplex",
          "Growth": 0.52,
          "Lux": 2500,
          "Temperature": 25
         },
         {
          "Algae": "Chaetoceros simplex",
          "Growth": 0.63,
          "Lux": 2500,
          "Temperature": 30
         },
         {
          "Algae": "Chlorella ellipsoidea",
          "Growth": 0.02,
          "Lux": 2500,
          "Temperature": 5
         },
         {
          "Algae": "Chlorella ellipsoidea",
          "Growth": 0.53,
          "Lux": 2500,
          "Temperature": 10
         },
         {
          "Algae": "Chlorella ellipsoidea",
          "Growth": 0.85,
          "Lux": 2500,
          "Temperature": 25
         },
         {
          "Algae": "Chlorella ellipsoidea",
          "Growth": 0.94,
          "Lux": 2500,
          "Temperature": 30
         },
         {
          "Algae": "Chlorella stigmatophora",
          "Growth": 0.24,
          "Lux": 2500,
          "Temperature": 5
         },
         {
          "Algae": "Chlorella stigmatophora",
          "Growth": 0.24,
          "Lux": 2500,
          "Temperature": 10
         },
         {
          "Algae": "Chlorella stigmatophora",
          "Growth": 0.56,
          "Lux": 2500,
          "Temperature": 25
         },
         {
          "Algae": "Chlorella stigmatophora",
          "Growth": 0.39,
          "Lux": 2500,
          "Temperature": 30
         },
         {
          "Algae": "Chlorella vulgaris (freshwater)",
          "Growth": 0,
          "Lux": 2500,
          "Temperature": 5
         },
         {
          "Algae": "Chlorella vulgaris (freshwater)",
          "Growth": 0.17,
          "Lux": 2500,
          "Temperature": 10
         },
         {
          "Algae": "Chlorella vulgaris (freshwater)",
          "Growth": 0.67,
          "Lux": 2500,
          "Temperature": 25
         },
         {
          "Algae": "Chlorella vulgaris (freshwater)",
          "Growth": -0.2,
          "Lux": 2500,
          "Temperature": 30
         },
         {
          "Algae": "Dunaniella tertiolecta",
          "Growth": 0.17,
          "Lux": 2500,
          "Temperature": 5
         },
         {
          "Algae": "Dunaniella tertiolecta",
          "Growth": 0.42,
          "Lux": 2500,
          "Temperature": 10
         },
         {
          "Algae": "Dunaniella tertiolecta",
          "Growth": 0.64,
          "Lux": 2500,
          "Temperature": 25
         },
         {
          "Algae": "Dunaniella tertiolecta",
          "Growth": 0.45,
          "Lux": 2500,
          "Temperature": 30
         },
         {
          "Algae": "Cyclotella sp. NUFP-9",
          "Growth": 0.08,
          "Lux": 2500,
          "Temperature": 5
         },
         {
          "Algae": "Cyclotella sp. NUFP-9",
          "Growth": -0.1,
          "Lux": 2500,
          "Temperature": 10
         },
         {
          "Algae": "Cyclotella sp. NUFP-9",
          "Growth": 0,
          "Lux": 2500,
          "Temperature": 25
         },
         {
          "Algae": "Cyclotella sp. NUFP-9",
          "Growth": -0.19,
          "Lux": 2500,
          "Temperature": 30
         },
         {
          "Algae": "Hanzchia marina",
          "Growth": -0.07,
          "Lux": 2500,
          "Temperature": 5
         },
         {
          "Algae": "Hanzchia marina",
          "Growth": -0.21,
          "Lux": 2500,
          "Temperature": 10
         },
         {
          "Algae": "Hanzchia marina",
          "Growth": 0.15,
          "Lux": 2500,
          "Temperature": 25
         },
         {
          "Algae": "Hanzchia marina",
          "Growth": 0.06,
          "Lux": 2500,
          "Temperature": 30
         },
         {
          "Algae": "Isochrysis galbana",
          "Growth": -0.07,
          "Lux": 2500,
          "Temperature": 5
         },
         {
          "Algae": "Isochrysis galbana",
          "Growth": 0.25,
          "Lux": 2500,
          "Temperature": 10
         },
         {
          "Algae": "Isochrysis galbana",
          "Growth": 0.55,
          "Lux": 2500,
          "Temperature": 25
         },
         {
          "Algae": "Isochrysis galbana",
          "Growth": 0.51,
          "Lux": 2500,
          "Temperature": 30
         },
         {
          "Algae": "Isochrysis aff. galbana",
          "Growth": -0.67,
          "Lux": 2500,
          "Temperature": 5
         },
         {
          "Algae": "Isochrysis aff. galbana",
          "Growth": -0.14,
          "Lux": 2500,
          "Temperature": 10
         },
         {
          "Algae": "Isochrysis aff. galbana",
          "Growth": 0.81,
          "Lux": 2500,
          "Temperature": 25
         },
         {
          "Algae": "Isochrysis aff. galbana",
          "Growth": 0.74,
          "Lux": 2500,
          "Temperature": 30
         },
         {
          "Algae": "Nannochlorois oculata",
          "Growth": -0.03,
          "Lux": 2500,
          "Temperature": 5
         },
         {
          "Algae": "Nannochlorois oculata",
          "Growth": 0.04,
          "Lux": 2500,
          "Temperature": 10
         },
         {
          "Algae": "Nannochlorois oculata",
          "Growth": 0.92,
          "Lux": 2500,
          "Temperature": 25
         },
         {
          "Algae": "Nannochlorois oculata",
          "Growth": 1.14,
          "Lux": 2500,
          "Temperature": 30
         },
         {
          "Algae": "Nannochloris salina",
          "Growth": 0.07,
          "Lux": 2500,
          "Temperature": 5
         },
         {
          "Algae": "Nannochloris salina",
          "Growth": 0.54,
          "Lux": 2500,
          "Temperature": 10
         },
         {
          "Algae": "Nannochloris salina",
          "Growth": -0.34,
          "Lux": 2500,
          "Temperature": 25
         },
         {
          "Algae": "Nannochloris salina",
          "Growth": 0.06,
          "Lux": 2500,
          "Temperature": 30
         },
         {
          "Algae": "Navicula incerta",
          "Growth": 0.2,
          "Lux": 2500,
          "Temperature": 5
         },
         {
          "Algae": "Navicula incerta",
          "Growth": 0.22,
          "Lux": 2500,
          "Temperature": 10
         },
         {
          "Algae": "Navicula incerta",
          "Growth": 0.37,
          "Lux": 2500,
          "Temperature": 25
         },
         {
          "Algae": "Navicula incerta",
          "Growth": 0.35,
          "Lux": 2500,
          "Temperature": 30
         },
         {
          "Algae": "Nitzscia sp.",
          "Growth": 0.12,
          "Lux": 2500,
          "Temperature": 5
         },
         {
          "Algae": "Nitzscia sp.",
          "Growth": 0.23,
          "Lux": 2500,
          "Temperature": 10
         },
         {
          "Algae": "Nitzscia sp.",
          "Growth": 0.29,
          "Lux": 2500,
          "Temperature": 25
         },
         {
          "Algae": "Nitzscia sp.",
          "Growth": 0.4,
          "Lux": 2500,
          "Temperature": 30
         },
         {
          "Algae": "Skeletonema costatum",
          "Growth": 0.34,
          "Lux": 2500,
          "Temperature": 5
         },
         {
          "Algae": "Skeletonema costatum",
          "Growth": 0.61,
          "Lux": 2500,
          "Temperature": 10
         },
         {
          "Algae": "Skeletonema costatum",
          "Growth": 0.67,
          "Lux": 2500,
          "Temperature": 25
         },
         {
          "Algae": "Skeletonema costatum",
          "Growth": 0.43,
          "Lux": 2500,
          "Temperature": 30
         },
         {
          "Algae": "Tetraselmus suecica",
          "Growth": -0.02,
          "Lux": 2500,
          "Temperature": 5
         },
         {
          "Algae": "Tetraselmus suecica",
          "Growth": 0.28,
          "Lux": 2500,
          "Temperature": 10
         },
         {
          "Algae": "Tetraselmus suecica",
          "Growth": 0.44,
          "Lux": 2500,
          "Temperature": 25
         },
         {
          "Algae": "Tetraselmus suecica",
          "Growth": 0.51,
          "Lux": 2500,
          "Temperature": 30
         },
         {
          "Algae": "Thalassiosira fluviatilis",
          "Growth": 0.06,
          "Lux": 2500,
          "Temperature": 5
         },
         {
          "Algae": "Thalassiosira fluviatilis",
          "Growth": 0.11,
          "Lux": 2500,
          "Temperature": 10
         },
         {
          "Algae": "Thalassiosira fluviatilis",
          "Growth": 0.1,
          "Lux": 2500,
          "Temperature": 25
         },
         {
          "Algae": "Thalassiosira fluviatilis",
          "Growth": 0.23,
          "Lux": 2500,
          "Temperature": 30
         },
         {
          "Algae": "Thalassiosira sp.",
          "Growth": -0.17,
          "Lux": 2500,
          "Temperature": 5
         },
         {
          "Algae": "Thalassiosira sp.",
          "Growth": -0.12,
          "Lux": 2500,
          "Temperature": 10
         },
         {
          "Algae": "Thalassiosira sp.",
          "Growth": 0.15,
          "Lux": 2500,
          "Temperature": 25
         },
         {
          "Algae": "Thalassiosira sp.",
          "Growth": 0.41,
          "Lux": 2500,
          "Temperature": 30
         }
        ]
       },
       "encoding": {
        "color": {
         "field": "Algae",
         "type": "nominal"
        },
        "tooltip": [
         {
          "field": "Algae",
          "type": "nominal"
         },
         {
          "field": "Temperature",
          "type": "quantitative"
         },
         {
          "field": "Lux",
          "type": "quantitative"
         },
         {
          "field": "Growth",
          "type": "quantitative"
         }
        ],
        "x": {
         "field": "Growth",
         "scale": {
          "zero": false
         },
         "type": "quantitative"
        },
        "y": {
         "field": "Temperature",
         "scale": {
          "padding": 1,
          "zero": false
         },
         "type": "quantitative"
        }
       },
       "mark": "circle"
      },
      "image/png": "[encoded data removed]",
      "text/plain": [
       "<VegaLite 2 object>\n",
       "\n",
       "If you see this message, it means the renderer has not been properly enabled\n",
       "for the frontend that you are using. For more information, see\n",
       "https://altair-viz.github.io/user_guide/troubleshooting.html\n"
      ]
     },
     "execution_count": 56,
     "metadata": {},
     "output_type": "execute_result"
    }
   ],
   "source": [
    "alt.Chart(df_jan[df_jan['Lux']==2500]).mark_circle().encode(\n",
    "        alt.X('Growth', scale=alt.Scale(zero=False)),\n",
    "        alt.Y('Temperature', scale=alt.Scale(zero=False, padding=1)),\n",
    "        color='Algae',\n",
    "        tooltip=['Algae',\n",
    "                 'Temperature',\n",
    "                 'Lux',\n",
    "                 'Growth',\n",
    "                 ]\n",
    "    )"
   ]
  },
  {
   "cell_type": "code",
   "execution_count": 61,
   "metadata": {},
   "outputs": [
    {
     "data": {
      "application/vnd.vegalite.v2+json": {
       "$schema": "https://vega.github.io/schema/vega-lite/v2.4.3.json",
       "config": {
        "view": {
         "height": 300,
         "width": 400
        }
       },
       "data": {
        "values": [
         {
          "Algae": "Caloneis schroderi",
          "Growth": -0.5,
          "Lux": 2500,
          "Temperature": 5
         },
         {
          "Algae": "Caloneis schroderi",
          "Growth": 0.25,
          "Lux": 2500,
          "Temperature": 10
         },
         {
          "Algae": "Caloneis schroderi",
          "Growth": 0.3,
          "Lux": 2500,
          "Temperature": 25
         },
         {
          "Algae": "Caloneis schroderi",
          "Growth": 0.29,
          "Lux": 2500,
          "Temperature": 30
         },
         {
          "Algae": "Chaetoceros gracilis",
          "Growth": -0.05,
          "Lux": 2500,
          "Temperature": 5
         },
         {
          "Algae": "Chaetoceros gracilis",
          "Growth": 0.07,
          "Lux": 2500,
          "Temperature": 10
         },
         {
          "Algae": "Chaetoceros gracilis",
          "Growth": 0.39,
          "Lux": 2500,
          "Temperature": 25
         },
         {
          "Algae": "Chaetoceros gracilis",
          "Growth": 0.73,
          "Lux": 2500,
          "Temperature": 30
         },
         {
          "Algae": "Chaetoceros simplex",
          "Growth": -0.01,
          "Lux": 2500,
          "Temperature": 5
         },
         {
          "Algae": "Chaetoceros simplex",
          "Growth": 0.55,
          "Lux": 2500,
          "Temperature": 10
         },
         {
          "Algae": "Chaetoceros simplex",
          "Growth": 0.52,
          "Lux": 2500,
          "Temperature": 25
         },
         {
          "Algae": "Chaetoceros simplex",
          "Growth": 0.63,
          "Lux": 2500,
          "Temperature": 30
         },
         {
          "Algae": "Chlorella ellipsoidea",
          "Growth": 0.02,
          "Lux": 2500,
          "Temperature": 5
         },
         {
          "Algae": "Chlorella ellipsoidea",
          "Growth": 0.53,
          "Lux": 2500,
          "Temperature": 10
         },
         {
          "Algae": "Chlorella ellipsoidea",
          "Growth": 0.85,
          "Lux": 2500,
          "Temperature": 25
         },
         {
          "Algae": "Chlorella ellipsoidea",
          "Growth": 0.94,
          "Lux": 2500,
          "Temperature": 30
         },
         {
          "Algae": "Chlorella stigmatophora",
          "Growth": 0.24,
          "Lux": 2500,
          "Temperature": 5
         },
         {
          "Algae": "Chlorella stigmatophora",
          "Growth": 0.24,
          "Lux": 2500,
          "Temperature": 10
         },
         {
          "Algae": "Chlorella stigmatophora",
          "Growth": 0.56,
          "Lux": 2500,
          "Temperature": 25
         },
         {
          "Algae": "Chlorella stigmatophora",
          "Growth": 0.39,
          "Lux": 2500,
          "Temperature": 30
         },
         {
          "Algae": "Chlorella vulgaris (freshwater)",
          "Growth": 0,
          "Lux": 2500,
          "Temperature": 5
         },
         {
          "Algae": "Chlorella vulgaris (freshwater)",
          "Growth": 0.17,
          "Lux": 2500,
          "Temperature": 10
         },
         {
          "Algae": "Chlorella vulgaris (freshwater)",
          "Growth": 0.67,
          "Lux": 2500,
          "Temperature": 25
         },
         {
          "Algae": "Chlorella vulgaris (freshwater)",
          "Growth": -0.2,
          "Lux": 2500,
          "Temperature": 30
         },
         {
          "Algae": "Dunaniella tertiolecta",
          "Growth": 0.17,
          "Lux": 2500,
          "Temperature": 5
         },
         {
          "Algae": "Dunaniella tertiolecta",
          "Growth": 0.42,
          "Lux": 2500,
          "Temperature": 10
         },
         {
          "Algae": "Dunaniella tertiolecta",
          "Growth": 0.64,
          "Lux": 2500,
          "Temperature": 25
         },
         {
          "Algae": "Dunaniella tertiolecta",
          "Growth": 0.45,
          "Lux": 2500,
          "Temperature": 30
         },
         {
          "Algae": "Cyclotella sp. NUFP-9",
          "Growth": 0.08,
          "Lux": 2500,
          "Temperature": 5
         },
         {
          "Algae": "Cyclotella sp. NUFP-9",
          "Growth": -0.1,
          "Lux": 2500,
          "Temperature": 10
         },
         {
          "Algae": "Cyclotella sp. NUFP-9",
          "Growth": 0,
          "Lux": 2500,
          "Temperature": 25
         },
         {
          "Algae": "Cyclotella sp. NUFP-9",
          "Growth": -0.19,
          "Lux": 2500,
          "Temperature": 30
         },
         {
          "Algae": "Hanzchia marina",
          "Growth": -0.07,
          "Lux": 2500,
          "Temperature": 5
         },
         {
          "Algae": "Hanzchia marina",
          "Growth": -0.21,
          "Lux": 2500,
          "Temperature": 10
         },
         {
          "Algae": "Hanzchia marina",
          "Growth": 0.15,
          "Lux": 2500,
          "Temperature": 25
         },
         {
          "Algae": "Hanzchia marina",
          "Growth": 0.06,
          "Lux": 2500,
          "Temperature": 30
         },
         {
          "Algae": "Isochrysis galbana",
          "Growth": -0.07,
          "Lux": 2500,
          "Temperature": 5
         },
         {
          "Algae": "Isochrysis galbana",
          "Growth": 0.25,
          "Lux": 2500,
          "Temperature": 10
         },
         {
          "Algae": "Isochrysis galbana",
          "Growth": 0.55,
          "Lux": 2500,
          "Temperature": 25
         },
         {
          "Algae": "Isochrysis galbana",
          "Growth": 0.51,
          "Lux": 2500,
          "Temperature": 30
         },
         {
          "Algae": "Isochrysis aff. galbana",
          "Growth": -0.67,
          "Lux": 2500,
          "Temperature": 5
         },
         {
          "Algae": "Isochrysis aff. galbana",
          "Growth": -0.14,
          "Lux": 2500,
          "Temperature": 10
         },
         {
          "Algae": "Isochrysis aff. galbana",
          "Growth": 0.81,
          "Lux": 2500,
          "Temperature": 25
         },
         {
          "Algae": "Isochrysis aff. galbana",
          "Growth": 0.74,
          "Lux": 2500,
          "Temperature": 30
         },
         {
          "Algae": "Nannochlorois oculata",
          "Growth": -0.03,
          "Lux": 2500,
          "Temperature": 5
         },
         {
          "Algae": "Nannochlorois oculata",
          "Growth": 0.04,
          "Lux": 2500,
          "Temperature": 10
         },
         {
          "Algae": "Nannochlorois oculata",
          "Growth": 0.92,
          "Lux": 2500,
          "Temperature": 25
         },
         {
          "Algae": "Nannochlorois oculata",
          "Growth": 1.14,
          "Lux": 2500,
          "Temperature": 30
         },
         {
          "Algae": "Nannochloris salina",
          "Growth": 0.07,
          "Lux": 2500,
          "Temperature": 5
         },
         {
          "Algae": "Nannochloris salina",
          "Growth": 0.54,
          "Lux": 2500,
          "Temperature": 10
         },
         {
          "Algae": "Nannochloris salina",
          "Growth": -0.34,
          "Lux": 2500,
          "Temperature": 25
         },
         {
          "Algae": "Nannochloris salina",
          "Growth": 0.06,
          "Lux": 2500,
          "Temperature": 30
         },
         {
          "Algae": "Navicula incerta",
          "Growth": 0.2,
          "Lux": 2500,
          "Temperature": 5
         },
         {
          "Algae": "Navicula incerta",
          "Growth": 0.22,
          "Lux": 2500,
          "Temperature": 10
         },
         {
          "Algae": "Navicula incerta",
          "Growth": 0.37,
          "Lux": 2500,
          "Temperature": 25
         },
         {
          "Algae": "Navicula incerta",
          "Growth": 0.35,
          "Lux": 2500,
          "Temperature": 30
         },
         {
          "Algae": "Nitzscia sp.",
          "Growth": 0.12,
          "Lux": 2500,
          "Temperature": 5
         },
         {
          "Algae": "Nitzscia sp.",
          "Growth": 0.23,
          "Lux": 2500,
          "Temperature": 10
         },
         {
          "Algae": "Nitzscia sp.",
          "Growth": 0.29,
          "Lux": 2500,
          "Temperature": 25
         },
         {
          "Algae": "Nitzscia sp.",
          "Growth": 0.4,
          "Lux": 2500,
          "Temperature": 30
         },
         {
          "Algae": "Skeletonema costatum",
          "Growth": 0.34,
          "Lux": 2500,
          "Temperature": 5
         },
         {
          "Algae": "Skeletonema costatum",
          "Growth": 0.61,
          "Lux": 2500,
          "Temperature": 10
         },
         {
          "Algae": "Skeletonema costatum",
          "Growth": 0.67,
          "Lux": 2500,
          "Temperature": 25
         },
         {
          "Algae": "Skeletonema costatum",
          "Growth": 0.43,
          "Lux": 2500,
          "Temperature": 30
         },
         {
          "Algae": "Tetraselmus suecica",
          "Growth": -0.02,
          "Lux": 2500,
          "Temperature": 5
         },
         {
          "Algae": "Tetraselmus suecica",
          "Growth": 0.28,
          "Lux": 2500,
          "Temperature": 10
         },
         {
          "Algae": "Tetraselmus suecica",
          "Growth": 0.44,
          "Lux": 2500,
          "Temperature": 25
         },
         {
          "Algae": "Tetraselmus suecica",
          "Growth": 0.51,
          "Lux": 2500,
          "Temperature": 30
         },
         {
          "Algae": "Thalassiosira fluviatilis",
          "Growth": 0.06,
          "Lux": 2500,
          "Temperature": 5
         },
         {
          "Algae": "Thalassiosira fluviatilis",
          "Growth": 0.11,
          "Lux": 2500,
          "Temperature": 10
         },
         {
          "Algae": "Thalassiosira fluviatilis",
          "Growth": 0.1,
          "Lux": 2500,
          "Temperature": 25
         },
         {
          "Algae": "Thalassiosira fluviatilis",
          "Growth": 0.23,
          "Lux": 2500,
          "Temperature": 30
         },
         {
          "Algae": "Thalassiosira sp.",
          "Growth": -0.17,
          "Lux": 2500,
          "Temperature": 5
         },
         {
          "Algae": "Thalassiosira sp.",
          "Growth": -0.12,
          "Lux": 2500,
          "Temperature": 10
         },
         {
          "Algae": "Thalassiosira sp.",
          "Growth": 0.15,
          "Lux": 2500,
          "Temperature": 25
         },
         {
          "Algae": "Thalassiosira sp.",
          "Growth": 0.41,
          "Lux": 2500,
          "Temperature": 30
         }
        ]
       },
       "encoding": {
        "color": {
         "field": "Algae",
         "type": "nominal"
        },
        "tooltip": [
         {
          "field": "Algae",
          "type": "nominal"
         },
         {
          "field": "Temperature",
          "type": "quantitative"
         },
         {
          "field": "Lux",
          "type": "quantitative"
         },
         {
          "field": "Growth",
          "type": "quantitative"
         }
        ],
        "x": {
         "field": "Temperature",
         "scale": {
          "zero": false
         },
         "type": "quantitative"
        },
        "y": {
         "field": "Growth",
         "scale": {
          "padding": 1,
          "zero": false
         },
         "type": "quantitative"
        }
       },
       "mark": "circle"
      },
      "image/png": "[encoded data removed]",
      "text/plain": [
       "<VegaLite 2 object>\n",
       "\n",
       "If you see this message, it means the renderer has not been properly enabled\n",
       "for the frontend that you are using. For more information, see\n",
       "https://altair-viz.github.io/user_guide/troubleshooting.html\n"
      ]
     },
     "execution_count": 61,
     "metadata": {},
     "output_type": "execute_result"
    }
   ],
   "source": [
    "alt.Chart(df_jan[df_jan['Lux']==2500]).mark_circle().encode(\n",
    "        alt.X('Temperature', scale=alt.Scale(zero=False)),\n",
    "        alt.Y('Growth', scale=alt.Scale(zero=False, padding=1)),\n",
    "        color='Algae',\n",
    "        tooltip=['Algae',\n",
    "                 'Temperature',\n",
    "                 'Lux',\n",
    "                 'Growth',\n",
    "                 ]\n",
    "    )"
   ]
  },
  {
   "cell_type": "markdown",
   "metadata": {},
   "source": [
    "**Create a Grouped Bar Chart with a Slider that Controls `Lux` Values**"
   ]
  },
  {
   "cell_type": "code",
   "execution_count": 45,
   "metadata": {},
   "outputs": [
    {
     "data": {
      "application/vnd.vegalite.v2+json": {
       "$schema": "https://vega.github.io/schema/vega-lite/v2.4.3.json",
       "config": {
        "view": {
         "height": 300,
         "width": 400
        }
       },
       "data": {
        "values": [
         {
          "Algae": "Caloneis schroderi",
          "Growth": -0.01,
          "Lux": 5000,
          "Temperature": 5
         },
         {
          "Algae": "Caloneis schroderi",
          "Growth": -0.5,
          "Lux": 2500,
          "Temperature": 5
         },
         {
          "Algae": "Caloneis schroderi",
          "Growth": -0.1,
          "Lux": 5000,
          "Temperature": 10
         },
         {
          "Algae": "Caloneis schroderi",
          "Growth": 0.25,
          "Lux": 2500,
          "Temperature": 10
         },
         {
          "Algae": "Caloneis schroderi",
          "Growth": 0.28,
          "Lux": 5000,
          "Temperature": 25
         },
         {
          "Algae": "Caloneis schroderi",
          "Growth": 0.3,
          "Lux": 2500,
          "Temperature": 25
         },
         {
          "Algae": "Caloneis schroderi",
          "Growth": 0.38,
          "Lux": 5000,
          "Temperature": 30
         },
         {
          "Algae": "Caloneis schroderi",
          "Growth": 0.29,
          "Lux": 2500,
          "Temperature": 30
         },
         {
          "Algae": "Chaetoceros gracilis",
          "Growth": -0.01,
          "Lux": 5000,
          "Temperature": 5
         },
         {
          "Algae": "Chaetoceros gracilis",
          "Growth": -0.05,
          "Lux": 2500,
          "Temperature": 5
         },
         {
          "Algae": "Chaetoceros gracilis",
          "Growth": 0.16,
          "Lux": 5000,
          "Temperature": 10
         },
         {
          "Algae": "Chaetoceros gracilis",
          "Growth": 0.07,
          "Lux": 2500,
          "Temperature": 10
         },
         {
          "Algae": "Chaetoceros gracilis",
          "Growth": 0.52,
          "Lux": 5000,
          "Temperature": 25
         },
         {
          "Algae": "Chaetoceros gracilis",
          "Growth": 0.39,
          "Lux": 2500,
          "Temperature": 25
         },
         {
          "Algae": "Chaetoceros gracilis",
          "Growth": 0.62,
          "Lux": 5000,
          "Temperature": 30
         },
         {
          "Algae": "Chaetoceros gracilis",
          "Growth": 0.73,
          "Lux": 2500,
          "Temperature": 30
         },
         {
          "Algae": "Chaetoceros simplex",
          "Growth": -0.06,
          "Lux": 5000,
          "Temperature": 5
         },
         {
          "Algae": "Chaetoceros simplex",
          "Growth": -0.01,
          "Lux": 2500,
          "Temperature": 5
         },
         {
          "Algae": "Chaetoceros simplex",
          "Growth": 0.27,
          "Lux": 5000,
          "Temperature": 10
         },
         {
          "Algae": "Chaetoceros simplex",
          "Growth": 0.55,
          "Lux": 2500,
          "Temperature": 10
         },
         {
          "Algae": "Chaetoceros simplex",
          "Growth": 0.47,
          "Lux": 5000,
          "Temperature": 25
         },
         {
          "Algae": "Chaetoceros simplex",
          "Growth": 0.52,
          "Lux": 2500,
          "Temperature": 25
         },
         {
          "Algae": "Chaetoceros simplex",
          "Growth": 0.54,
          "Lux": 5000,
          "Temperature": 30
         },
         {
          "Algae": "Chaetoceros simplex",
          "Growth": 0.63,
          "Lux": 2500,
          "Temperature": 30
         },
         {
          "Algae": "Chlorella ellipsoidea",
          "Growth": 0.03,
          "Lux": 5000,
          "Temperature": 5
         },
         {
          "Algae": "Chlorella ellipsoidea",
          "Growth": 0.02,
          "Lux": 2500,
          "Temperature": 5
         },
         {
          "Algae": "Chlorella ellipsoidea",
          "Growth": 0.58,
          "Lux": 5000,
          "Temperature": 10
         },
         {
          "Algae": "Chlorella ellipsoidea",
          "Growth": 0.53,
          "Lux": 2500,
          "Temperature": 10
         },
         {
          "Algae": "Chlorella ellipsoidea",
          "Growth": 0.88,
          "Lux": 5000,
          "Temperature": 25
         },
         {
          "Algae": "Chlorella ellipsoidea",
          "Growth": 0.85,
          "Lux": 2500,
          "Temperature": 25
         },
         {
          "Algae": "Chlorella ellipsoidea",
          "Growth": 0.98,
          "Lux": 5000,
          "Temperature": 30
         },
         {
          "Algae": "Chlorella ellipsoidea",
          "Growth": 0.94,
          "Lux": 2500,
          "Temperature": 30
         },
         {
          "Algae": "Chlorella stigmatophora",
          "Growth": 0.01,
          "Lux": 5000,
          "Temperature": 5
         },
         {
          "Algae": "Chlorella stigmatophora",
          "Growth": 0.24,
          "Lux": 2500,
          "Temperature": 5
         },
         {
          "Algae": "Chlorella stigmatophora",
          "Growth": 0.36,
          "Lux": 5000,
          "Temperature": 10
         },
         {
          "Algae": "Chlorella stigmatophora",
          "Growth": 0.24,
          "Lux": 2500,
          "Temperature": 10
         },
         {
          "Algae": "Chlorella stigmatophora",
          "Growth": 0.78,
          "Lux": 5000,
          "Temperature": 25
         },
         {
          "Algae": "Chlorella stigmatophora",
          "Growth": 0.56,
          "Lux": 2500,
          "Temperature": 25
         },
         {
          "Algae": "Chlorella stigmatophora",
          "Growth": 0.66,
          "Lux": 5000,
          "Temperature": 30
         },
         {
          "Algae": "Chlorella stigmatophora",
          "Growth": 0.39,
          "Lux": 2500,
          "Temperature": 30
         },
         {
          "Algae": "Chlorella vulgaris (freshwater)",
          "Growth": -0.25,
          "Lux": 5000,
          "Temperature": 5
         },
         {
          "Algae": "Chlorella vulgaris (freshwater)",
          "Growth": 0,
          "Lux": 2500,
          "Temperature": 5
         },
         {
          "Algae": "Chlorella vulgaris (freshwater)",
          "Growth": 0.21,
          "Lux": 5000,
          "Temperature": 10
         },
         {
          "Algae": "Chlorella vulgaris (freshwater)",
          "Growth": 0.17,
          "Lux": 2500,
          "Temperature": 10
         },
         {
          "Algae": "Chlorella vulgaris (freshwater)",
          "Growth": 0.68,
          "Lux": 5000,
          "Temperature": 25
         },
         {
          "Algae": "Chlorella vulgaris (freshwater)",
          "Growth": 0.67,
          "Lux": 2500,
          "Temperature": 25
         },
         {
          "Algae": "Chlorella vulgaris (freshwater)",
          "Growth": -0.29,
          "Lux": 5000,
          "Temperature": 30
         },
         {
          "Algae": "Chlorella vulgaris (freshwater)",
          "Growth": -0.2,
          "Lux": 2500,
          "Temperature": 30
         },
         {
          "Algae": "Dunaniella tertiolecta",
          "Growth": 0.28,
          "Lux": 5000,
          "Temperature": 5
         },
         {
          "Algae": "Dunaniella tertiolecta",
          "Growth": 0.17,
          "Lux": 2500,
          "Temperature": 5
         },
         {
          "Algae": "Dunaniella tertiolecta",
          "Growth": 0.43,
          "Lux": 5000,
          "Temperature": 10
         },
         {
          "Algae": "Dunaniella tertiolecta",
          "Growth": 0.42,
          "Lux": 2500,
          "Temperature": 10
         },
         {
          "Algae": "Dunaniella tertiolecta",
          "Growth": 0.6,
          "Lux": 5000,
          "Temperature": 25
         },
         {
          "Algae": "Dunaniella tertiolecta",
          "Growth": 0.64,
          "Lux": 2500,
          "Temperature": 25
         },
         {
          "Algae": "Dunaniella tertiolecta",
          "Growth": 0.6,
          "Lux": 5000,
          "Temperature": 30
         },
         {
          "Algae": "Dunaniella tertiolecta",
          "Growth": 0.45,
          "Lux": 2500,
          "Temperature": 30
         },
         {
          "Algae": "Cyclotella sp. NUFP-9",
          "Growth": 0.16,
          "Lux": 5000,
          "Temperature": 5
         },
         {
          "Algae": "Cyclotella sp. NUFP-9",
          "Growth": 0.08,
          "Lux": 2500,
          "Temperature": 5
         },
         {
          "Algae": "Cyclotella sp. NUFP-9",
          "Growth": 0,
          "Lux": 5000,
          "Temperature": 10
         },
         {
          "Algae": "Cyclotella sp. NUFP-9",
          "Growth": -0.1,
          "Lux": 2500,
          "Temperature": 10
         },
         {
          "Algae": "Cyclotella sp. NUFP-9",
          "Growth": 0,
          "Lux": 5000,
          "Temperature": 25
         },
         {
          "Algae": "Cyclotella sp. NUFP-9",
          "Growth": 0,
          "Lux": 2500,
          "Temperature": 25
         },
         {
          "Algae": "Cyclotella sp. NUFP-9",
          "Growth": -0.18,
          "Lux": 5000,
          "Temperature": 30
         },
         {
          "Algae": "Cyclotella sp. NUFP-9",
          "Growth": -0.19,
          "Lux": 2500,
          "Temperature": 30
         },
         {
          "Algae": "Hanzchia marina",
          "Growth": -0.36,
          "Lux": 5000,
          "Temperature": 5
         },
         {
          "Algae": "Hanzchia marina",
          "Growth": -0.07,
          "Lux": 2500,
          "Temperature": 5
         },
         {
          "Algae": "Hanzchia marina",
          "Growth": -0.68,
          "Lux": 5000,
          "Temperature": 10
         },
         {
          "Algae": "Hanzchia marina",
          "Growth": -0.21,
          "Lux": 2500,
          "Temperature": 10
         },
         {
          "Algae": "Hanzchia marina",
          "Growth": 0.21,
          "Lux": 5000,
          "Temperature": 25
         },
         {
          "Algae": "Hanzchia marina",
          "Growth": 0.15,
          "Lux": 2500,
          "Temperature": 25
         },
         {
          "Algae": "Hanzchia marina",
          "Growth": 0.11,
          "Lux": 5000,
          "Temperature": 30
         },
         {
          "Algae": "Hanzchia marina",
          "Growth": 0.06,
          "Lux": 2500,
          "Temperature": 30
         },
         {
          "Algae": "Isochrysis galbana",
          "Growth": -0.57,
          "Lux": 5000,
          "Temperature": 5
         },
         {
          "Algae": "Isochrysis galbana",
          "Growth": -0.07,
          "Lux": 2500,
          "Temperature": 5
         },
         {
          "Algae": "Isochrysis galbana",
          "Growth": 0.42,
          "Lux": 5000,
          "Temperature": 10
         },
         {
          "Algae": "Isochrysis galbana",
          "Growth": 0.25,
          "Lux": 2500,
          "Temperature": 10
         },
         {
          "Algae": "Isochrysis galbana",
          "Growth": 0.55,
          "Lux": 5000,
          "Temperature": 25
         },
         {
          "Algae": "Isochrysis galbana",
          "Growth": 0.55,
          "Lux": 2500,
          "Temperature": 25
         },
         {
          "Algae": "Isochrysis galbana",
          "Growth": 0.52,
          "Lux": 5000,
          "Temperature": 30
         },
         {
          "Algae": "Isochrysis galbana",
          "Growth": 0.51,
          "Lux": 2500,
          "Temperature": 30
         },
         {
          "Algae": "Isochrysis aff. galbana",
          "Growth": -0.62,
          "Lux": 5000,
          "Temperature": 5
         },
         {
          "Algae": "Isochrysis aff. galbana",
          "Growth": -0.67,
          "Lux": 2500,
          "Temperature": 5
         },
         {
          "Algae": "Isochrysis aff. galbana",
          "Growth": 0.06,
          "Lux": 5000,
          "Temperature": 10
         },
         {
          "Algae": "Isochrysis aff. galbana",
          "Growth": -0.14,
          "Lux": 2500,
          "Temperature": 10
         },
         {
          "Algae": "Isochrysis aff. galbana",
          "Growth": 0.78,
          "Lux": 5000,
          "Temperature": 25
         },
         {
          "Algae": "Isochrysis aff. galbana",
          "Growth": 0.81,
          "Lux": 2500,
          "Temperature": 25
         },
         {
          "Algae": "Isochrysis aff. galbana",
          "Growth": 0.76,
          "Lux": 5000,
          "Temperature": 30
         },
         {
          "Algae": "Isochrysis aff. galbana",
          "Growth": 0.74,
          "Lux": 2500,
          "Temperature": 30
         },
         {
          "Algae": "Nannochlorois oculata",
          "Growth": 0.01,
          "Lux": 5000,
          "Temperature": 5
         },
         {
          "Algae": "Nannochlorois oculata",
          "Growth": -0.03,
          "Lux": 2500,
          "Temperature": 5
         },
         {
          "Algae": "Nannochlorois oculata",
          "Growth": 0.01,
          "Lux": 5000,
          "Temperature": 10
         },
         {
          "Algae": "Nannochlorois oculata",
          "Growth": 0.04,
          "Lux": 2500,
          "Temperature": 10
         },
         {
          "Algae": "Nannochlorois oculata",
          "Growth": 0.85,
          "Lux": 5000,
          "Temperature": 25
         },
         {
          "Algae": "Nannochlorois oculata",
          "Growth": 0.92,
          "Lux": 2500,
          "Temperature": 25
         },
         {
          "Algae": "Nannochlorois oculata",
          "Growth": 1.09,
          "Lux": 5000,
          "Temperature": 30
         },
         {
          "Algae": "Nannochlorois oculata",
          "Growth": 1.14,
          "Lux": 2500,
          "Temperature": 30
         },
         {
          "Algae": "Nannochloris salina",
          "Growth": 0.06,
          "Lux": 5000,
          "Temperature": 5
         },
         {
          "Algae": "Nannochloris salina",
          "Growth": 0.07,
          "Lux": 2500,
          "Temperature": 5
         },
         {
          "Algae": "Nannochloris salina",
          "Growth": 0.04,
          "Lux": 5000,
          "Temperature": 10
         },
         {
          "Algae": "Nannochloris salina",
          "Growth": 0.54,
          "Lux": 2500,
          "Temperature": 10
         },
         {
          "Algae": "Nannochloris salina",
          "Growth": -0.32,
          "Lux": 5000,
          "Temperature": 25
         },
         {
          "Algae": "Nannochloris salina",
          "Growth": -0.34,
          "Lux": 2500,
          "Temperature": 25
         },
         {
          "Algae": "Nannochloris salina",
          "Growth": 0.46,
          "Lux": 5000,
          "Temperature": 30
         },
         {
          "Algae": "Nannochloris salina",
          "Growth": 0.06,
          "Lux": 2500,
          "Temperature": 30
         },
         {
          "Algae": "Navicula incerta",
          "Growth": 0.16,
          "Lux": 5000,
          "Temperature": 5
         },
         {
          "Algae": "Navicula incerta",
          "Growth": 0.2,
          "Lux": 2500,
          "Temperature": 5
         },
         {
          "Algae": "Navicula incerta",
          "Growth": 0.37,
          "Lux": 5000,
          "Temperature": 10
         },
         {
          "Algae": "Navicula incerta",
          "Growth": 0.22,
          "Lux": 2500,
          "Temperature": 10
         },
         {
          "Algae": "Navicula incerta",
          "Growth": 0.39,
          "Lux": 5000,
          "Temperature": 25
         },
         {
          "Algae": "Navicula incerta",
          "Growth": 0.37,
          "Lux": 2500,
          "Temperature": 25
         },
         {
          "Algae": "Navicula incerta",
          "Growth": 0.48,
          "Lux": 5000,
          "Temperature": 30
         },
         {
          "Algae": "Navicula incerta",
          "Growth": 0.35,
          "Lux": 2500,
          "Temperature": 30
         },
         {
          "Algae": "Nitzscia sp.",
          "Growth": -0.1,
          "Lux": 5000,
          "Temperature": 5
         },
         {
          "Algae": "Nitzscia sp.",
          "Growth": 0.12,
          "Lux": 2500,
          "Temperature": 5
         },
         {
          "Algae": "Nitzscia sp.",
          "Growth": 0.2,
          "Lux": 5000,
          "Temperature": 10
         },
         {
          "Algae": "Nitzscia sp.",
          "Growth": 0.23,
          "Lux": 2500,
          "Temperature": 10
         },
         {
          "Algae": "Nitzscia sp.",
          "Growth": 0.23,
          "Lux": 5000,
          "Temperature": 25
         },
         {
          "Algae": "Nitzscia sp.",
          "Growth": 0.29,
          "Lux": 2500,
          "Temperature": 25
         },
         {
          "Algae": "Nitzscia sp.",
          "Growth": 0.46,
          "Lux": 5000,
          "Temperature": 30
         },
         {
          "Algae": "Nitzscia sp.",
          "Growth": 0.4,
          "Lux": 2500,
          "Temperature": 30
         },
         {
          "Algae": "Skeletonema costatum",
          "Growth": 0.29,
          "Lux": 5000,
          "Temperature": 5
         },
         {
          "Algae": "Skeletonema costatum",
          "Growth": 0.34,
          "Lux": 2500,
          "Temperature": 5
         },
         {
          "Algae": "Skeletonema costatum",
          "Growth": 0.66,
          "Lux": 5000,
          "Temperature": 10
         },
         {
          "Algae": "Skeletonema costatum",
          "Growth": 0.61,
          "Lux": 2500,
          "Temperature": 10
         },
         {
          "Algae": "Skeletonema costatum",
          "Growth": 0.6,
          "Lux": 5000,
          "Temperature": 25
         },
         {
          "Algae": "Skeletonema costatum",
          "Growth": 0.67,
          "Lux": 2500,
          "Temperature": 25
         },
         {
          "Algae": "Skeletonema costatum",
          "Growth": 0.48,
          "Lux": 5000,
          "Temperature": 30
         },
         {
          "Algae": "Skeletonema costatum",
          "Growth": 0.43,
          "Lux": 2500,
          "Temperature": 30
         },
         {
          "Algae": "Tetraselmus suecica",
          "Growth": 0.04,
          "Lux": 5000,
          "Temperature": 5
         },
         {
          "Algae": "Tetraselmus suecica",
          "Growth": -0.02,
          "Lux": 2500,
          "Temperature": 5
         },
         {
          "Algae": "Tetraselmus suecica",
          "Growth": 0.42,
          "Lux": 5000,
          "Temperature": 10
         },
         {
          "Algae": "Tetraselmus suecica",
          "Growth": 0.28,
          "Lux": 2500,
          "Temperature": 10
         },
         {
          "Algae": "Tetraselmus suecica",
          "Growth": 0.46,
          "Lux": 5000,
          "Temperature": 25
         },
         {
          "Algae": "Tetraselmus suecica",
          "Growth": 0.44,
          "Lux": 2500,
          "Temperature": 25
         },
         {
          "Algae": "Tetraselmus suecica",
          "Growth": 0.55,
          "Lux": 5000,
          "Temperature": 30
         },
         {
          "Algae": "Tetraselmus suecica",
          "Growth": 0.51,
          "Lux": 2500,
          "Temperature": 30
         },
         {
          "Algae": "Thalassiosira fluviatilis",
          "Growth": 0.03,
          "Lux": 5000,
          "Temperature": 5
         },
         {
          "Algae": "Thalassiosira fluviatilis",
          "Growth": 0.06,
          "Lux": 2500,
          "Temperature": 5
         },
         {
          "Algae": "Thalassiosira fluviatilis",
          "Growth": 0.1,
          "Lux": 5000,
          "Temperature": 10
         },
         {
          "Algae": "Thalassiosira fluviatilis",
          "Growth": 0.11,
          "Lux": 2500,
          "Temperature": 10
         },
         {
          "Algae": "Thalassiosira fluviatilis",
          "Growth": -0.03,
          "Lux": 5000,
          "Temperature": 25
         },
         {
          "Algae": "Thalassiosira fluviatilis",
          "Growth": 0.1,
          "Lux": 2500,
          "Temperature": 25
         },
         {
          "Algae": "Thalassiosira fluviatilis",
          "Growth": 0.28,
          "Lux": 5000,
          "Temperature": 30
         },
         {
          "Algae": "Thalassiosira fluviatilis",
          "Growth": 0.23,
          "Lux": 2500,
          "Temperature": 30
         },
         {
          "Algae": "Thalassiosira sp.",
          "Growth": -0.29,
          "Lux": 5000,
          "Temperature": 5
         },
         {
          "Algae": "Thalassiosira sp.",
          "Growth": -0.17,
          "Lux": 2500,
          "Temperature": 5
         },
         {
          "Algae": "Thalassiosira sp.",
          "Growth": -0.04,
          "Lux": 5000,
          "Temperature": 10
         },
         {
          "Algae": "Thalassiosira sp.",
          "Growth": -0.12,
          "Lux": 2500,
          "Temperature": 10
         },
         {
          "Algae": "Thalassiosira sp.",
          "Growth": 0.13,
          "Lux": 5000,
          "Temperature": 25
         },
         {
          "Algae": "Thalassiosira sp.",
          "Growth": 0.15,
          "Lux": 2500,
          "Temperature": 25
         },
         {
          "Algae": "Thalassiosira sp.",
          "Growth": 0.4,
          "Lux": 5000,
          "Temperature": 30
         },
         {
          "Algae": "Thalassiosira sp.",
          "Growth": 0.41,
          "Lux": 2500,
          "Temperature": 30
         }
        ]
       },
       "encoding": {
        "color": {
         "field": "Temperature",
         "scale": {
          "domain": [
           5,
           10,
           25,
           30
          ],
          "range": [
           "steelblue",
           "salmon",
           "yellow",
           "green"
          ]
         },
         "type": "nominal"
        },
        "column": {
         "field": "Algae",
         "type": "nominal"
        },
        "x": {
         "field": "Temperature",
         "type": "nominal"
        },
        "y": {
         "axis": {
          "grid": false
         },
         "field": "Growth",
         "scale": {
          "domain": [
           -0.75,
           1.2
          ]
         },
         "type": "quantitative"
        }
       },
       "mark": "bar",
       "selection": {
        "Lux": {
         "bind": {
          "input": "range",
          "max": 5000,
          "min": 2500,
          "step": 2500
         },
         "empty": "all",
         "fields": [
          "Lux"
         ],
         "on": "click",
         "resolve": "global",
         "type": "single"
        }
       },
       "transform": [
        {
         "filter": {
          "selection": "Lux"
         }
        }
       ],
       "width": 125
      },
      "image/png": "[encoded data removed]",
      "text/plain": [
       "<VegaLite 2 object>\n",
       "\n",
       "If you see this message, it means the renderer has not been properly enabled\n",
       "for the frontend that you are using. For more information, see\n",
       "https://altair-viz.github.io/user_guide/troubleshooting.html\n"
      ]
     },
     "execution_count": 45,
     "metadata": {},
     "output_type": "execute_result"
    }
   ],
   "source": [
    "pink_blue = alt.Scale(domain=(5, 10, 25, 30),\n",
    "                      range=[\"steelblue\", \"salmon\", \"yellow\", \"green\"])\n",
    "\n",
    "slider = alt.binding_range(min=2500, max=5000, step=2500)\n",
    "select_lux = alt.selection_single(name=\"Lux\", fields=['Lux'], bind=slider)\n",
    "\n",
    "alt.Chart(df_jan).mark_bar().encode(\n",
    "    x=alt.X('Temperature:N'),\n",
    "    y=alt.Y('Growth:Q', scale=alt.Scale(domain=(-.75, 1.2)), axis=alt.Axis(grid=False)),\n",
    "    color=alt.Color('Temperature:N', scale=pink_blue),\n",
    "    column='Algae'\n",
    ").properties(\n",
    "    width=125\n",
    ").add_selection(\n",
    "    select_lux\n",
    ").transform_filter(\n",
    "    select_lux\n",
    ")"
   ]
  },
  {
   "cell_type": "markdown",
   "metadata": {},
   "source": [
    "**Plot Grouped Bar Charts without the Slider**\n",
    "\n",
    "Plot of all values with Lux == 2500"
   ]
  },
  {
   "cell_type": "code",
   "execution_count": 48,
   "metadata": {},
   "outputs": [
    {
     "data": {
      "application/vnd.vegalite.v2+json": {
       "$schema": "https://vega.github.io/schema/vega-lite/v2.4.3.json",
       "config": {
        "view": {
         "height": 300,
         "width": 400
        }
       },
       "data": {
        "values": [
         {
          "Algae": "Caloneis schroderi",
          "Growth": -0.5,
          "Lux": 2500,
          "Temperature": 5
         },
         {
          "Algae": "Caloneis schroderi",
          "Growth": 0.25,
          "Lux": 2500,
          "Temperature": 10
         },
         {
          "Algae": "Caloneis schroderi",
          "Growth": 0.3,
          "Lux": 2500,
          "Temperature": 25
         },
         {
          "Algae": "Caloneis schroderi",
          "Growth": 0.29,
          "Lux": 2500,
          "Temperature": 30
         },
         {
          "Algae": "Chaetoceros gracilis",
          "Growth": -0.05,
          "Lux": 2500,
          "Temperature": 5
         },
         {
          "Algae": "Chaetoceros gracilis",
          "Growth": 0.07,
          "Lux": 2500,
          "Temperature": 10
         },
         {
          "Algae": "Chaetoceros gracilis",
          "Growth": 0.39,
          "Lux": 2500,
          "Temperature": 25
         },
         {
          "Algae": "Chaetoceros gracilis",
          "Growth": 0.73,
          "Lux": 2500,
          "Temperature": 30
         },
         {
          "Algae": "Chaetoceros simplex",
          "Growth": -0.01,
          "Lux": 2500,
          "Temperature": 5
         },
         {
          "Algae": "Chaetoceros simplex",
          "Growth": 0.55,
          "Lux": 2500,
          "Temperature": 10
         },
         {
          "Algae": "Chaetoceros simplex",
          "Growth": 0.52,
          "Lux": 2500,
          "Temperature": 25
         },
         {
          "Algae": "Chaetoceros simplex",
          "Growth": 0.63,
          "Lux": 2500,
          "Temperature": 30
         },
         {
          "Algae": "Chlorella ellipsoidea",
          "Growth": 0.02,
          "Lux": 2500,
          "Temperature": 5
         },
         {
          "Algae": "Chlorella ellipsoidea",
          "Growth": 0.53,
          "Lux": 2500,
          "Temperature": 10
         },
         {
          "Algae": "Chlorella ellipsoidea",
          "Growth": 0.85,
          "Lux": 2500,
          "Temperature": 25
         },
         {
          "Algae": "Chlorella ellipsoidea",
          "Growth": 0.94,
          "Lux": 2500,
          "Temperature": 30
         },
         {
          "Algae": "Chlorella stigmatophora",
          "Growth": 0.24,
          "Lux": 2500,
          "Temperature": 5
         },
         {
          "Algae": "Chlorella stigmatophora",
          "Growth": 0.24,
          "Lux": 2500,
          "Temperature": 10
         },
         {
          "Algae": "Chlorella stigmatophora",
          "Growth": 0.56,
          "Lux": 2500,
          "Temperature": 25
         },
         {
          "Algae": "Chlorella stigmatophora",
          "Growth": 0.39,
          "Lux": 2500,
          "Temperature": 30
         },
         {
          "Algae": "Chlorella vulgaris (freshwater)",
          "Growth": 0,
          "Lux": 2500,
          "Temperature": 5
         },
         {
          "Algae": "Chlorella vulgaris (freshwater)",
          "Growth": 0.17,
          "Lux": 2500,
          "Temperature": 10
         },
         {
          "Algae": "Chlorella vulgaris (freshwater)",
          "Growth": 0.67,
          "Lux": 2500,
          "Temperature": 25
         },
         {
          "Algae": "Chlorella vulgaris (freshwater)",
          "Growth": -0.2,
          "Lux": 2500,
          "Temperature": 30
         },
         {
          "Algae": "Dunaniella tertiolecta",
          "Growth": 0.17,
          "Lux": 2500,
          "Temperature": 5
         },
         {
          "Algae": "Dunaniella tertiolecta",
          "Growth": 0.42,
          "Lux": 2500,
          "Temperature": 10
         },
         {
          "Algae": "Dunaniella tertiolecta",
          "Growth": 0.64,
          "Lux": 2500,
          "Temperature": 25
         },
         {
          "Algae": "Dunaniella tertiolecta",
          "Growth": 0.45,
          "Lux": 2500,
          "Temperature": 30
         },
         {
          "Algae": "Cyclotella sp. NUFP-9",
          "Growth": 0.08,
          "Lux": 2500,
          "Temperature": 5
         },
         {
          "Algae": "Cyclotella sp. NUFP-9",
          "Growth": -0.1,
          "Lux": 2500,
          "Temperature": 10
         },
         {
          "Algae": "Cyclotella sp. NUFP-9",
          "Growth": 0,
          "Lux": 2500,
          "Temperature": 25
         },
         {
          "Algae": "Cyclotella sp. NUFP-9",
          "Growth": -0.19,
          "Lux": 2500,
          "Temperature": 30
         },
         {
          "Algae": "Hanzchia marina",
          "Growth": -0.07,
          "Lux": 2500,
          "Temperature": 5
         },
         {
          "Algae": "Hanzchia marina",
          "Growth": -0.21,
          "Lux": 2500,
          "Temperature": 10
         },
         {
          "Algae": "Hanzchia marina",
          "Growth": 0.15,
          "Lux": 2500,
          "Temperature": 25
         },
         {
          "Algae": "Hanzchia marina",
          "Growth": 0.06,
          "Lux": 2500,
          "Temperature": 30
         },
         {
          "Algae": "Isochrysis galbana",
          "Growth": -0.07,
          "Lux": 2500,
          "Temperature": 5
         },
         {
          "Algae": "Isochrysis galbana",
          "Growth": 0.25,
          "Lux": 2500,
          "Temperature": 10
         },
         {
          "Algae": "Isochrysis galbana",
          "Growth": 0.55,
          "Lux": 2500,
          "Temperature": 25
         },
         {
          "Algae": "Isochrysis galbana",
          "Growth": 0.51,
          "Lux": 2500,
          "Temperature": 30
         },
         {
          "Algae": "Isochrysis aff. galbana",
          "Growth": -0.67,
          "Lux": 2500,
          "Temperature": 5
         },
         {
          "Algae": "Isochrysis aff. galbana",
          "Growth": -0.14,
          "Lux": 2500,
          "Temperature": 10
         },
         {
          "Algae": "Isochrysis aff. galbana",
          "Growth": 0.81,
          "Lux": 2500,
          "Temperature": 25
         },
         {
          "Algae": "Isochrysis aff. galbana",
          "Growth": 0.74,
          "Lux": 2500,
          "Temperature": 30
         },
         {
          "Algae": "Nannochlorois oculata",
          "Growth": -0.03,
          "Lux": 2500,
          "Temperature": 5
         },
         {
          "Algae": "Nannochlorois oculata",
          "Growth": 0.04,
          "Lux": 2500,
          "Temperature": 10
         },
         {
          "Algae": "Nannochlorois oculata",
          "Growth": 0.92,
          "Lux": 2500,
          "Temperature": 25
         },
         {
          "Algae": "Nannochlorois oculata",
          "Growth": 1.14,
          "Lux": 2500,
          "Temperature": 30
         },
         {
          "Algae": "Nannochloris salina",
          "Growth": 0.07,
          "Lux": 2500,
          "Temperature": 5
         },
         {
          "Algae": "Nannochloris salina",
          "Growth": 0.54,
          "Lux": 2500,
          "Temperature": 10
         },
         {
          "Algae": "Nannochloris salina",
          "Growth": -0.34,
          "Lux": 2500,
          "Temperature": 25
         },
         {
          "Algae": "Nannochloris salina",
          "Growth": 0.06,
          "Lux": 2500,
          "Temperature": 30
         },
         {
          "Algae": "Navicula incerta",
          "Growth": 0.2,
          "Lux": 2500,
          "Temperature": 5
         },
         {
          "Algae": "Navicula incerta",
          "Growth": 0.22,
          "Lux": 2500,
          "Temperature": 10
         },
         {
          "Algae": "Navicula incerta",
          "Growth": 0.37,
          "Lux": 2500,
          "Temperature": 25
         },
         {
          "Algae": "Navicula incerta",
          "Growth": 0.35,
          "Lux": 2500,
          "Temperature": 30
         },
         {
          "Algae": "Nitzscia sp.",
          "Growth": 0.12,
          "Lux": 2500,
          "Temperature": 5
         },
         {
          "Algae": "Nitzscia sp.",
          "Growth": 0.23,
          "Lux": 2500,
          "Temperature": 10
         },
         {
          "Algae": "Nitzscia sp.",
          "Growth": 0.29,
          "Lux": 2500,
          "Temperature": 25
         },
         {
          "Algae": "Nitzscia sp.",
          "Growth": 0.4,
          "Lux": 2500,
          "Temperature": 30
         },
         {
          "Algae": "Skeletonema costatum",
          "Growth": 0.34,
          "Lux": 2500,
          "Temperature": 5
         },
         {
          "Algae": "Skeletonema costatum",
          "Growth": 0.61,
          "Lux": 2500,
          "Temperature": 10
         },
         {
          "Algae": "Skeletonema costatum",
          "Growth": 0.67,
          "Lux": 2500,
          "Temperature": 25
         },
         {
          "Algae": "Skeletonema costatum",
          "Growth": 0.43,
          "Lux": 2500,
          "Temperature": 30
         },
         {
          "Algae": "Tetraselmus suecica",
          "Growth": -0.02,
          "Lux": 2500,
          "Temperature": 5
         },
         {
          "Algae": "Tetraselmus suecica",
          "Growth": 0.28,
          "Lux": 2500,
          "Temperature": 10
         },
         {
          "Algae": "Tetraselmus suecica",
          "Growth": 0.44,
          "Lux": 2500,
          "Temperature": 25
         },
         {
          "Algae": "Tetraselmus suecica",
          "Growth": 0.51,
          "Lux": 2500,
          "Temperature": 30
         },
         {
          "Algae": "Thalassiosira fluviatilis",
          "Growth": 0.06,
          "Lux": 2500,
          "Temperature": 5
         },
         {
          "Algae": "Thalassiosira fluviatilis",
          "Growth": 0.11,
          "Lux": 2500,
          "Temperature": 10
         },
         {
          "Algae": "Thalassiosira fluviatilis",
          "Growth": 0.1,
          "Lux": 2500,
          "Temperature": 25
         },
         {
          "Algae": "Thalassiosira fluviatilis",
          "Growth": 0.23,
          "Lux": 2500,
          "Temperature": 30
         },
         {
          "Algae": "Thalassiosira sp.",
          "Growth": -0.17,
          "Lux": 2500,
          "Temperature": 5
         },
         {
          "Algae": "Thalassiosira sp.",
          "Growth": -0.12,
          "Lux": 2500,
          "Temperature": 10
         },
         {
          "Algae": "Thalassiosira sp.",
          "Growth": 0.15,
          "Lux": 2500,
          "Temperature": 25
         },
         {
          "Algae": "Thalassiosira sp.",
          "Growth": 0.41,
          "Lux": 2500,
          "Temperature": 30
         }
        ]
       },
       "encoding": {
        "color": {
         "field": "Temperature",
         "scale": {
          "domain": [
           5,
           10,
           25,
           30
          ],
          "range": [
           "steelblue",
           "salmon",
           "yellow",
           "green"
          ]
         },
         "type": "nominal"
        },
        "column": {
         "field": "Algae",
         "type": "nominal"
        },
        "x": {
         "field": "Temperature",
         "type": "nominal"
        },
        "y": {
         "axis": {
          "grid": false
         },
         "field": "Growth",
         "scale": {
          "domain": [
           -0.75,
           1.2
          ]
         },
         "type": "quantitative"
        }
       },
       "mark": "bar",
       "width": 125
      },
      "image/png": "[encoded data removed]",
      "text/plain": [
       "<VegaLite 2 object>\n",
       "\n",
       "If you see this message, it means the renderer has not been properly enabled\n",
       "for the frontend that you are using. For more information, see\n",
       "https://altair-viz.github.io/user_guide/troubleshooting.html\n"
      ]
     },
     "execution_count": 48,
     "metadata": {},
     "output_type": "execute_result"
    }
   ],
   "source": [
    "pink_blue = alt.Scale(domain=(5, 10, 25, 30),\n",
    "                      range=[\"steelblue\", \"salmon\", \"yellow\", \"green\"])\n",
    "\n",
    "alt.Chart(df_jan[df_jan['Lux']==2500]).mark_bar().encode(\n",
    "    x=alt.X('Temperature:N'),\n",
    "    y=alt.Y('Growth:Q', scale=alt.Scale(domain=(-.75, 1.2)), axis=alt.Axis(grid=False)),\n",
    "    color=alt.Color('Temperature:N', scale=pink_blue),\n",
    "    column='Algae'\n",
    ").properties(\n",
    "    width=125\n",
    ")"
   ]
  },
  {
   "cell_type": "markdown",
   "metadata": {},
   "source": [
    "**Plot Grouped Bar Charts without the Slider**\n",
    "\n",
    "Plot of all values with Lux == 5000"
   ]
  },
  {
   "cell_type": "code",
   "execution_count": 49,
   "metadata": {},
   "outputs": [
    {
     "data": {
      "application/vnd.vegalite.v2+json": {
       "$schema": "https://vega.github.io/schema/vega-lite/v2.4.3.json",
       "config": {
        "view": {
         "height": 300,
         "width": 400
        }
       },
       "data": {
        "values": [
         {
          "Algae": "Caloneis schroderi",
          "Growth": -0.01,
          "Lux": 5000,
          "Temperature": 5
         },
         {
          "Algae": "Caloneis schroderi",
          "Growth": -0.1,
          "Lux": 5000,
          "Temperature": 10
         },
         {
          "Algae": "Caloneis schroderi",
          "Growth": 0.28,
          "Lux": 5000,
          "Temperature": 25
         },
         {
          "Algae": "Caloneis schroderi",
          "Growth": 0.38,
          "Lux": 5000,
          "Temperature": 30
         },
         {
          "Algae": "Chaetoceros gracilis",
          "Growth": -0.01,
          "Lux": 5000,
          "Temperature": 5
         },
         {
          "Algae": "Chaetoceros gracilis",
          "Growth": 0.16,
          "Lux": 5000,
          "Temperature": 10
         },
         {
          "Algae": "Chaetoceros gracilis",
          "Growth": 0.52,
          "Lux": 5000,
          "Temperature": 25
         },
         {
          "Algae": "Chaetoceros gracilis",
          "Growth": 0.62,
          "Lux": 5000,
          "Temperature": 30
         },
         {
          "Algae": "Chaetoceros simplex",
          "Growth": -0.06,
          "Lux": 5000,
          "Temperature": 5
         },
         {
          "Algae": "Chaetoceros simplex",
          "Growth": 0.27,
          "Lux": 5000,
          "Temperature": 10
         },
         {
          "Algae": "Chaetoceros simplex",
          "Growth": 0.47,
          "Lux": 5000,
          "Temperature": 25
         },
         {
          "Algae": "Chaetoceros simplex",
          "Growth": 0.54,
          "Lux": 5000,
          "Temperature": 30
         },
         {
          "Algae": "Chlorella ellipsoidea",
          "Growth": 0.03,
          "Lux": 5000,
          "Temperature": 5
         },
         {
          "Algae": "Chlorella ellipsoidea",
          "Growth": 0.58,
          "Lux": 5000,
          "Temperature": 10
         },
         {
          "Algae": "Chlorella ellipsoidea",
          "Growth": 0.88,
          "Lux": 5000,
          "Temperature": 25
         },
         {
          "Algae": "Chlorella ellipsoidea",
          "Growth": 0.98,
          "Lux": 5000,
          "Temperature": 30
         },
         {
          "Algae": "Chlorella stigmatophora",
          "Growth": 0.01,
          "Lux": 5000,
          "Temperature": 5
         },
         {
          "Algae": "Chlorella stigmatophora",
          "Growth": 0.36,
          "Lux": 5000,
          "Temperature": 10
         },
         {
          "Algae": "Chlorella stigmatophora",
          "Growth": 0.78,
          "Lux": 5000,
          "Temperature": 25
         },
         {
          "Algae": "Chlorella stigmatophora",
          "Growth": 0.66,
          "Lux": 5000,
          "Temperature": 30
         },
         {
          "Algae": "Chlorella vulgaris (freshwater)",
          "Growth": -0.25,
          "Lux": 5000,
          "Temperature": 5
         },
         {
          "Algae": "Chlorella vulgaris (freshwater)",
          "Growth": 0.21,
          "Lux": 5000,
          "Temperature": 10
         },
         {
          "Algae": "Chlorella vulgaris (freshwater)",
          "Growth": 0.68,
          "Lux": 5000,
          "Temperature": 25
         },
         {
          "Algae": "Chlorella vulgaris (freshwater)",
          "Growth": -0.29,
          "Lux": 5000,
          "Temperature": 30
         },
         {
          "Algae": "Dunaniella tertiolecta",
          "Growth": 0.28,
          "Lux": 5000,
          "Temperature": 5
         },
         {
          "Algae": "Dunaniella tertiolecta",
          "Growth": 0.43,
          "Lux": 5000,
          "Temperature": 10
         },
         {
          "Algae": "Dunaniella tertiolecta",
          "Growth": 0.6,
          "Lux": 5000,
          "Temperature": 25
         },
         {
          "Algae": "Dunaniella tertiolecta",
          "Growth": 0.6,
          "Lux": 5000,
          "Temperature": 30
         },
         {
          "Algae": "Cyclotella sp. NUFP-9",
          "Growth": 0.16,
          "Lux": 5000,
          "Temperature": 5
         },
         {
          "Algae": "Cyclotella sp. NUFP-9",
          "Growth": 0,
          "Lux": 5000,
          "Temperature": 10
         },
         {
          "Algae": "Cyclotella sp. NUFP-9",
          "Growth": 0,
          "Lux": 5000,
          "Temperature": 25
         },
         {
          "Algae": "Cyclotella sp. NUFP-9",
          "Growth": -0.18,
          "Lux": 5000,
          "Temperature": 30
         },
         {
          "Algae": "Hanzchia marina",
          "Growth": -0.36,
          "Lux": 5000,
          "Temperature": 5
         },
         {
          "Algae": "Hanzchia marina",
          "Growth": -0.68,
          "Lux": 5000,
          "Temperature": 10
         },
         {
          "Algae": "Hanzchia marina",
          "Growth": 0.21,
          "Lux": 5000,
          "Temperature": 25
         },
         {
          "Algae": "Hanzchia marina",
          "Growth": 0.11,
          "Lux": 5000,
          "Temperature": 30
         },
         {
          "Algae": "Isochrysis galbana",
          "Growth": -0.57,
          "Lux": 5000,
          "Temperature": 5
         },
         {
          "Algae": "Isochrysis galbana",
          "Growth": 0.42,
          "Lux": 5000,
          "Temperature": 10
         },
         {
          "Algae": "Isochrysis galbana",
          "Growth": 0.55,
          "Lux": 5000,
          "Temperature": 25
         },
         {
          "Algae": "Isochrysis galbana",
          "Growth": 0.52,
          "Lux": 5000,
          "Temperature": 30
         },
         {
          "Algae": "Isochrysis aff. galbana",
          "Growth": -0.62,
          "Lux": 5000,
          "Temperature": 5
         },
         {
          "Algae": "Isochrysis aff. galbana",
          "Growth": 0.06,
          "Lux": 5000,
          "Temperature": 10
         },
         {
          "Algae": "Isochrysis aff. galbana",
          "Growth": 0.78,
          "Lux": 5000,
          "Temperature": 25
         },
         {
          "Algae": "Isochrysis aff. galbana",
          "Growth": 0.76,
          "Lux": 5000,
          "Temperature": 30
         },
         {
          "Algae": "Nannochlorois oculata",
          "Growth": 0.01,
          "Lux": 5000,
          "Temperature": 5
         },
         {
          "Algae": "Nannochlorois oculata",
          "Growth": 0.01,
          "Lux": 5000,
          "Temperature": 10
         },
         {
          "Algae": "Nannochlorois oculata",
          "Growth": 0.85,
          "Lux": 5000,
          "Temperature": 25
         },
         {
          "Algae": "Nannochlorois oculata",
          "Growth": 1.09,
          "Lux": 5000,
          "Temperature": 30
         },
         {
          "Algae": "Nannochloris salina",
          "Growth": 0.06,
          "Lux": 5000,
          "Temperature": 5
         },
         {
          "Algae": "Nannochloris salina",
          "Growth": 0.04,
          "Lux": 5000,
          "Temperature": 10
         },
         {
          "Algae": "Nannochloris salina",
          "Growth": -0.32,
          "Lux": 5000,
          "Temperature": 25
         },
         {
          "Algae": "Nannochloris salina",
          "Growth": 0.46,
          "Lux": 5000,
          "Temperature": 30
         },
         {
          "Algae": "Navicula incerta",
          "Growth": 0.16,
          "Lux": 5000,
          "Temperature": 5
         },
         {
          "Algae": "Navicula incerta",
          "Growth": 0.37,
          "Lux": 5000,
          "Temperature": 10
         },
         {
          "Algae": "Navicula incerta",
          "Growth": 0.39,
          "Lux": 5000,
          "Temperature": 25
         },
         {
          "Algae": "Navicula incerta",
          "Growth": 0.48,
          "Lux": 5000,
          "Temperature": 30
         },
         {
          "Algae": "Nitzscia sp.",
          "Growth": -0.1,
          "Lux": 5000,
          "Temperature": 5
         },
         {
          "Algae": "Nitzscia sp.",
          "Growth": 0.2,
          "Lux": 5000,
          "Temperature": 10
         },
         {
          "Algae": "Nitzscia sp.",
          "Growth": 0.23,
          "Lux": 5000,
          "Temperature": 25
         },
         {
          "Algae": "Nitzscia sp.",
          "Growth": 0.46,
          "Lux": 5000,
          "Temperature": 30
         },
         {
          "Algae": "Skeletonema costatum",
          "Growth": 0.29,
          "Lux": 5000,
          "Temperature": 5
         },
         {
          "Algae": "Skeletonema costatum",
          "Growth": 0.66,
          "Lux": 5000,
          "Temperature": 10
         },
         {
          "Algae": "Skeletonema costatum",
          "Growth": 0.6,
          "Lux": 5000,
          "Temperature": 25
         },
         {
          "Algae": "Skeletonema costatum",
          "Growth": 0.48,
          "Lux": 5000,
          "Temperature": 30
         },
         {
          "Algae": "Tetraselmus suecica",
          "Growth": 0.04,
          "Lux": 5000,
          "Temperature": 5
         },
         {
          "Algae": "Tetraselmus suecica",
          "Growth": 0.42,
          "Lux": 5000,
          "Temperature": 10
         },
         {
          "Algae": "Tetraselmus suecica",
          "Growth": 0.46,
          "Lux": 5000,
          "Temperature": 25
         },
         {
          "Algae": "Tetraselmus suecica",
          "Growth": 0.55,
          "Lux": 5000,
          "Temperature": 30
         },
         {
          "Algae": "Thalassiosira fluviatilis",
          "Growth": 0.03,
          "Lux": 5000,
          "Temperature": 5
         },
         {
          "Algae": "Thalassiosira fluviatilis",
          "Growth": 0.1,
          "Lux": 5000,
          "Temperature": 10
         },
         {
          "Algae": "Thalassiosira fluviatilis",
          "Growth": -0.03,
          "Lux": 5000,
          "Temperature": 25
         },
         {
          "Algae": "Thalassiosira fluviatilis",
          "Growth": 0.28,
          "Lux": 5000,
          "Temperature": 30
         },
         {
          "Algae": "Thalassiosira sp.",
          "Growth": -0.29,
          "Lux": 5000,
          "Temperature": 5
         },
         {
          "Algae": "Thalassiosira sp.",
          "Growth": -0.04,
          "Lux": 5000,
          "Temperature": 10
         },
         {
          "Algae": "Thalassiosira sp.",
          "Growth": 0.13,
          "Lux": 5000,
          "Temperature": 25
         },
         {
          "Algae": "Thalassiosira sp.",
          "Growth": 0.4,
          "Lux": 5000,
          "Temperature": 30
         }
        ]
       },
       "encoding": {
        "color": {
         "field": "Temperature",
         "scale": {
          "domain": [
           5,
           10,
           25,
           30
          ],
          "range": [
           "steelblue",
           "salmon",
           "yellow",
           "green"
          ]
         },
         "type": "nominal"
        },
        "column": {
         "field": "Algae",
         "type": "nominal"
        },
        "x": {
         "field": "Temperature",
         "type": "nominal"
        },
        "y": {
         "axis": {
          "grid": false
         },
         "field": "Growth",
         "scale": {
          "domain": [
           -0.75,
           1.2
          ]
         },
         "type": "quantitative"
        }
       },
       "mark": "bar",
       "width": 125
      },
      "image/png": "[encoded data removed]",
      "text/plain": [
       "<VegaLite 2 object>\n",
       "\n",
       "If you see this message, it means the renderer has not been properly enabled\n",
       "for the frontend that you are using. For more information, see\n",
       "https://altair-viz.github.io/user_guide/troubleshooting.html\n"
      ]
     },
     "execution_count": 49,
     "metadata": {},
     "output_type": "execute_result"
    }
   ],
   "source": [
    "pink_blue = alt.Scale(domain=(5, 10, 25, 30),\n",
    "                      range=[\"steelblue\", \"salmon\", \"yellow\", \"green\"])\n",
    "\n",
    "alt.Chart(df_jan[df_jan['Lux']==5000]).mark_bar().encode(\n",
    "    x=alt.X('Temperature:N'),\n",
    "    y=alt.Y('Growth:Q', scale=alt.Scale(domain=(-.75, 1.2)), axis=alt.Axis(grid=False)),\n",
    "    color=alt.Color('Temperature:N', scale=pink_blue),\n",
    "    column='Algae'\n",
    ").properties(\n",
    "    width=125\n",
    ")"
   ]
  },
  {
   "cell_type": "markdown",
   "metadata": {},
   "source": [
    "**Create a Multi-Line Highlight Chart**"
   ]
  },
  {
   "cell_type": "code",
   "execution_count": 85,
   "metadata": {},
   "outputs": [
    {
     "data": {
      "application/vnd.vegalite.v2+json": {
       "$schema": "https://vega.github.io/schema/vega-lite/v2.4.3.json",
       "config": {
        "view": {
         "height": 300,
         "width": 400
        }
       },
       "layer": [
        {
         "data": {
          "values": [
           {
            "Algae": "Caloneis schroderi",
            "Growth": -0.5,
            "Lux": 2500,
            "Temperature": 5
           },
           {
            "Algae": "Caloneis schroderi",
            "Growth": 0.25,
            "Lux": 2500,
            "Temperature": 10
           },
           {
            "Algae": "Caloneis schroderi",
            "Growth": 0.3,
            "Lux": 2500,
            "Temperature": 25
           },
           {
            "Algae": "Caloneis schroderi",
            "Growth": 0.29,
            "Lux": 2500,
            "Temperature": 30
           },
           {
            "Algae": "Chaetoceros gracilis",
            "Growth": -0.05,
            "Lux": 2500,
            "Temperature": 5
           },
           {
            "Algae": "Chaetoceros gracilis",
            "Growth": 0.07,
            "Lux": 2500,
            "Temperature": 10
           },
           {
            "Algae": "Chaetoceros gracilis",
            "Growth": 0.39,
            "Lux": 2500,
            "Temperature": 25
           },
           {
            "Algae": "Chaetoceros gracilis",
            "Growth": 0.73,
            "Lux": 2500,
            "Temperature": 30
           },
           {
            "Algae": "Chaetoceros simplex",
            "Growth": -0.01,
            "Lux": 2500,
            "Temperature": 5
           },
           {
            "Algae": "Chaetoceros simplex",
            "Growth": 0.55,
            "Lux": 2500,
            "Temperature": 10
           },
           {
            "Algae": "Chaetoceros simplex",
            "Growth": 0.52,
            "Lux": 2500,
            "Temperature": 25
           },
           {
            "Algae": "Chaetoceros simplex",
            "Growth": 0.63,
            "Lux": 2500,
            "Temperature": 30
           },
           {
            "Algae": "Chlorella ellipsoidea",
            "Growth": 0.02,
            "Lux": 2500,
            "Temperature": 5
           },
           {
            "Algae": "Chlorella ellipsoidea",
            "Growth": 0.53,
            "Lux": 2500,
            "Temperature": 10
           },
           {
            "Algae": "Chlorella ellipsoidea",
            "Growth": 0.85,
            "Lux": 2500,
            "Temperature": 25
           },
           {
            "Algae": "Chlorella ellipsoidea",
            "Growth": 0.94,
            "Lux": 2500,
            "Temperature": 30
           },
           {
            "Algae": "Chlorella stigmatophora",
            "Growth": 0.24,
            "Lux": 2500,
            "Temperature": 5
           },
           {
            "Algae": "Chlorella stigmatophora",
            "Growth": 0.24,
            "Lux": 2500,
            "Temperature": 10
           },
           {
            "Algae": "Chlorella stigmatophora",
            "Growth": 0.56,
            "Lux": 2500,
            "Temperature": 25
           },
           {
            "Algae": "Chlorella stigmatophora",
            "Growth": 0.39,
            "Lux": 2500,
            "Temperature": 30
           },
           {
            "Algae": "Chlorella vulgaris (freshwater)",
            "Growth": 0,
            "Lux": 2500,
            "Temperature": 5
           },
           {
            "Algae": "Chlorella vulgaris (freshwater)",
            "Growth": 0.17,
            "Lux": 2500,
            "Temperature": 10
           },
           {
            "Algae": "Chlorella vulgaris (freshwater)",
            "Growth": 0.67,
            "Lux": 2500,
            "Temperature": 25
           },
           {
            "Algae": "Chlorella vulgaris (freshwater)",
            "Growth": -0.2,
            "Lux": 2500,
            "Temperature": 30
           },
           {
            "Algae": "Dunaniella tertiolecta",
            "Growth": 0.17,
            "Lux": 2500,
            "Temperature": 5
           },
           {
            "Algae": "Dunaniella tertiolecta",
            "Growth": 0.42,
            "Lux": 2500,
            "Temperature": 10
           },
           {
            "Algae": "Dunaniella tertiolecta",
            "Growth": 0.64,
            "Lux": 2500,
            "Temperature": 25
           },
           {
            "Algae": "Dunaniella tertiolecta",
            "Growth": 0.45,
            "Lux": 2500,
            "Temperature": 30
           },
           {
            "Algae": "Cyclotella sp. NUFP-9",
            "Growth": 0.08,
            "Lux": 2500,
            "Temperature": 5
           },
           {
            "Algae": "Cyclotella sp. NUFP-9",
            "Growth": -0.1,
            "Lux": 2500,
            "Temperature": 10
           },
           {
            "Algae": "Cyclotella sp. NUFP-9",
            "Growth": 0,
            "Lux": 2500,
            "Temperature": 25
           },
           {
            "Algae": "Cyclotella sp. NUFP-9",
            "Growth": -0.19,
            "Lux": 2500,
            "Temperature": 30
           },
           {
            "Algae": "Hanzchia marina",
            "Growth": -0.07,
            "Lux": 2500,
            "Temperature": 5
           },
           {
            "Algae": "Hanzchia marina",
            "Growth": -0.21,
            "Lux": 2500,
            "Temperature": 10
           },
           {
            "Algae": "Hanzchia marina",
            "Growth": 0.15,
            "Lux": 2500,
            "Temperature": 25
           },
           {
            "Algae": "Hanzchia marina",
            "Growth": 0.06,
            "Lux": 2500,
            "Temperature": 30
           },
           {
            "Algae": "Isochrysis galbana",
            "Growth": -0.07,
            "Lux": 2500,
            "Temperature": 5
           },
           {
            "Algae": "Isochrysis galbana",
            "Growth": 0.25,
            "Lux": 2500,
            "Temperature": 10
           },
           {
            "Algae": "Isochrysis galbana",
            "Growth": 0.55,
            "Lux": 2500,
            "Temperature": 25
           },
           {
            "Algae": "Isochrysis galbana",
            "Growth": 0.51,
            "Lux": 2500,
            "Temperature": 30
           },
           {
            "Algae": "Isochrysis aff. galbana",
            "Growth": -0.67,
            "Lux": 2500,
            "Temperature": 5
           },
           {
            "Algae": "Isochrysis aff. galbana",
            "Growth": -0.14,
            "Lux": 2500,
            "Temperature": 10
           },
           {
            "Algae": "Isochrysis aff. galbana",
            "Growth": 0.81,
            "Lux": 2500,
            "Temperature": 25
           },
           {
            "Algae": "Isochrysis aff. galbana",
            "Growth": 0.74,
            "Lux": 2500,
            "Temperature": 30
           },
           {
            "Algae": "Nannochlorois oculata",
            "Growth": -0.03,
            "Lux": 2500,
            "Temperature": 5
           },
           {
            "Algae": "Nannochlorois oculata",
            "Growth": 0.04,
            "Lux": 2500,
            "Temperature": 10
           },
           {
            "Algae": "Nannochlorois oculata",
            "Growth": 0.92,
            "Lux": 2500,
            "Temperature": 25
           },
           {
            "Algae": "Nannochlorois oculata",
            "Growth": 1.14,
            "Lux": 2500,
            "Temperature": 30
           },
           {
            "Algae": "Nannochloris salina",
            "Growth": 0.07,
            "Lux": 2500,
            "Temperature": 5
           },
           {
            "Algae": "Nannochloris salina",
            "Growth": 0.54,
            "Lux": 2500,
            "Temperature": 10
           },
           {
            "Algae": "Nannochloris salina",
            "Growth": -0.34,
            "Lux": 2500,
            "Temperature": 25
           },
           {
            "Algae": "Nannochloris salina",
            "Growth": 0.06,
            "Lux": 2500,
            "Temperature": 30
           },
           {
            "Algae": "Navicula incerta",
            "Growth": 0.2,
            "Lux": 2500,
            "Temperature": 5
           },
           {
            "Algae": "Navicula incerta",
            "Growth": 0.22,
            "Lux": 2500,
            "Temperature": 10
           },
           {
            "Algae": "Navicula incerta",
            "Growth": 0.37,
            "Lux": 2500,
            "Temperature": 25
           },
           {
            "Algae": "Navicula incerta",
            "Growth": 0.35,
            "Lux": 2500,
            "Temperature": 30
           },
           {
            "Algae": "Nitzscia sp.",
            "Growth": 0.12,
            "Lux": 2500,
            "Temperature": 5
           },
           {
            "Algae": "Nitzscia sp.",
            "Growth": 0.23,
            "Lux": 2500,
            "Temperature": 10
           },
           {
            "Algae": "Nitzscia sp.",
            "Growth": 0.29,
            "Lux": 2500,
            "Temperature": 25
           },
           {
            "Algae": "Nitzscia sp.",
            "Growth": 0.4,
            "Lux": 2500,
            "Temperature": 30
           },
           {
            "Algae": "Skeletonema costatum",
            "Growth": 0.34,
            "Lux": 2500,
            "Temperature": 5
           },
           {
            "Algae": "Skeletonema costatum",
            "Growth": 0.61,
            "Lux": 2500,
            "Temperature": 10
           },
           {
            "Algae": "Skeletonema costatum",
            "Growth": 0.67,
            "Lux": 2500,
            "Temperature": 25
           },
           {
            "Algae": "Skeletonema costatum",
            "Growth": 0.43,
            "Lux": 2500,
            "Temperature": 30
           },
           {
            "Algae": "Tetraselmus suecica",
            "Growth": -0.02,
            "Lux": 2500,
            "Temperature": 5
           },
           {
            "Algae": "Tetraselmus suecica",
            "Growth": 0.28,
            "Lux": 2500,
            "Temperature": 10
           },
           {
            "Algae": "Tetraselmus suecica",
            "Growth": 0.44,
            "Lux": 2500,
            "Temperature": 25
           },
           {
            "Algae": "Tetraselmus suecica",
            "Growth": 0.51,
            "Lux": 2500,
            "Temperature": 30
           },
           {
            "Algae": "Thalassiosira fluviatilis",
            "Growth": 0.06,
            "Lux": 2500,
            "Temperature": 5
           },
           {
            "Algae": "Thalassiosira fluviatilis",
            "Growth": 0.11,
            "Lux": 2500,
            "Temperature": 10
           },
           {
            "Algae": "Thalassiosira fluviatilis",
            "Growth": 0.1,
            "Lux": 2500,
            "Temperature": 25
           },
           {
            "Algae": "Thalassiosira fluviatilis",
            "Growth": 0.23,
            "Lux": 2500,
            "Temperature": 30
           },
           {
            "Algae": "Thalassiosira sp.",
            "Growth": -0.17,
            "Lux": 2500,
            "Temperature": 5
           },
           {
            "Algae": "Thalassiosira sp.",
            "Growth": -0.12,
            "Lux": 2500,
            "Temperature": 10
           },
           {
            "Algae": "Thalassiosira sp.",
            "Growth": 0.15,
            "Lux": 2500,
            "Temperature": 25
           },
           {
            "Algae": "Thalassiosira sp.",
            "Growth": 0.41,
            "Lux": 2500,
            "Temperature": 30
           }
          ]
         },
         "encoding": {
          "color": {
           "field": "Algae",
           "type": "nominal"
          },
          "opacity": {
           "value": 0.3
          },
          "tooltip": [
           {
            "field": "Algae",
            "type": "nominal"
           },
           {
            "field": "Temperature",
            "type": "quantitative"
           },
           {
            "field": "Lux",
            "type": "quantitative"
           },
           {
            "field": "Growth",
            "type": "quantitative"
           }
          ],
          "x": {
           "field": "Temperature",
           "type": "quantitative"
          },
          "y": {
           "field": "Growth",
           "type": "quantitative"
          }
         },
         "mark": "square",
         "selection": {
          "selector024": {
           "empty": "all",
           "fields": [
            "Algae"
           ],
           "nearest": true,
           "on": "mouseover",
           "resolve": "global",
           "type": "single"
          }
         },
         "width": 300
        },
        {
         "data": {
          "values": [
           {
            "Algae": "Caloneis schroderi",
            "Growth": -0.5,
            "Lux": 2500,
            "Temperature": 5
           },
           {
            "Algae": "Caloneis schroderi",
            "Growth": 0.25,
            "Lux": 2500,
            "Temperature": 10
           },
           {
            "Algae": "Caloneis schroderi",
            "Growth": 0.3,
            "Lux": 2500,
            "Temperature": 25
           },
           {
            "Algae": "Caloneis schroderi",
            "Growth": 0.29,
            "Lux": 2500,
            "Temperature": 30
           },
           {
            "Algae": "Chaetoceros gracilis",
            "Growth": -0.05,
            "Lux": 2500,
            "Temperature": 5
           },
           {
            "Algae": "Chaetoceros gracilis",
            "Growth": 0.07,
            "Lux": 2500,
            "Temperature": 10
           },
           {
            "Algae": "Chaetoceros gracilis",
            "Growth": 0.39,
            "Lux": 2500,
            "Temperature": 25
           },
           {
            "Algae": "Chaetoceros gracilis",
            "Growth": 0.73,
            "Lux": 2500,
            "Temperature": 30
           },
           {
            "Algae": "Chaetoceros simplex",
            "Growth": -0.01,
            "Lux": 2500,
            "Temperature": 5
           },
           {
            "Algae": "Chaetoceros simplex",
            "Growth": 0.55,
            "Lux": 2500,
            "Temperature": 10
           },
           {
            "Algae": "Chaetoceros simplex",
            "Growth": 0.52,
            "Lux": 2500,
            "Temperature": 25
           },
           {
            "Algae": "Chaetoceros simplex",
            "Growth": 0.63,
            "Lux": 2500,
            "Temperature": 30
           },
           {
            "Algae": "Chlorella ellipsoidea",
            "Growth": 0.02,
            "Lux": 2500,
            "Temperature": 5
           },
           {
            "Algae": "Chlorella ellipsoidea",
            "Growth": 0.53,
            "Lux": 2500,
            "Temperature": 10
           },
           {
            "Algae": "Chlorella ellipsoidea",
            "Growth": 0.85,
            "Lux": 2500,
            "Temperature": 25
           },
           {
            "Algae": "Chlorella ellipsoidea",
            "Growth": 0.94,
            "Lux": 2500,
            "Temperature": 30
           },
           {
            "Algae": "Chlorella stigmatophora",
            "Growth": 0.24,
            "Lux": 2500,
            "Temperature": 5
           },
           {
            "Algae": "Chlorella stigmatophora",
            "Growth": 0.24,
            "Lux": 2500,
            "Temperature": 10
           },
           {
            "Algae": "Chlorella stigmatophora",
            "Growth": 0.56,
            "Lux": 2500,
            "Temperature": 25
           },
           {
            "Algae": "Chlorella stigmatophora",
            "Growth": 0.39,
            "Lux": 2500,
            "Temperature": 30
           },
           {
            "Algae": "Chlorella vulgaris (freshwater)",
            "Growth": 0,
            "Lux": 2500,
            "Temperature": 5
           },
           {
            "Algae": "Chlorella vulgaris (freshwater)",
            "Growth": 0.17,
            "Lux": 2500,
            "Temperature": 10
           },
           {
            "Algae": "Chlorella vulgaris (freshwater)",
            "Growth": 0.67,
            "Lux": 2500,
            "Temperature": 25
           },
           {
            "Algae": "Chlorella vulgaris (freshwater)",
            "Growth": -0.2,
            "Lux": 2500,
            "Temperature": 30
           },
           {
            "Algae": "Dunaniella tertiolecta",
            "Growth": 0.17,
            "Lux": 2500,
            "Temperature": 5
           },
           {
            "Algae": "Dunaniella tertiolecta",
            "Growth": 0.42,
            "Lux": 2500,
            "Temperature": 10
           },
           {
            "Algae": "Dunaniella tertiolecta",
            "Growth": 0.64,
            "Lux": 2500,
            "Temperature": 25
           },
           {
            "Algae": "Dunaniella tertiolecta",
            "Growth": 0.45,
            "Lux": 2500,
            "Temperature": 30
           },
           {
            "Algae": "Cyclotella sp. NUFP-9",
            "Growth": 0.08,
            "Lux": 2500,
            "Temperature": 5
           },
           {
            "Algae": "Cyclotella sp. NUFP-9",
            "Growth": -0.1,
            "Lux": 2500,
            "Temperature": 10
           },
           {
            "Algae": "Cyclotella sp. NUFP-9",
            "Growth": 0,
            "Lux": 2500,
            "Temperature": 25
           },
           {
            "Algae": "Cyclotella sp. NUFP-9",
            "Growth": -0.19,
            "Lux": 2500,
            "Temperature": 30
           },
           {
            "Algae": "Hanzchia marina",
            "Growth": -0.07,
            "Lux": 2500,
            "Temperature": 5
           },
           {
            "Algae": "Hanzchia marina",
            "Growth": -0.21,
            "Lux": 2500,
            "Temperature": 10
           },
           {
            "Algae": "Hanzchia marina",
            "Growth": 0.15,
            "Lux": 2500,
            "Temperature": 25
           },
           {
            "Algae": "Hanzchia marina",
            "Growth": 0.06,
            "Lux": 2500,
            "Temperature": 30
           },
           {
            "Algae": "Isochrysis galbana",
            "Growth": -0.07,
            "Lux": 2500,
            "Temperature": 5
           },
           {
            "Algae": "Isochrysis galbana",
            "Growth": 0.25,
            "Lux": 2500,
            "Temperature": 10
           },
           {
            "Algae": "Isochrysis galbana",
            "Growth": 0.55,
            "Lux": 2500,
            "Temperature": 25
           },
           {
            "Algae": "Isochrysis galbana",
            "Growth": 0.51,
            "Lux": 2500,
            "Temperature": 30
           },
           {
            "Algae": "Isochrysis aff. galbana",
            "Growth": -0.67,
            "Lux": 2500,
            "Temperature": 5
           },
           {
            "Algae": "Isochrysis aff. galbana",
            "Growth": -0.14,
            "Lux": 2500,
            "Temperature": 10
           },
           {
            "Algae": "Isochrysis aff. galbana",
            "Growth": 0.81,
            "Lux": 2500,
            "Temperature": 25
           },
           {
            "Algae": "Isochrysis aff. galbana",
            "Growth": 0.74,
            "Lux": 2500,
            "Temperature": 30
           },
           {
            "Algae": "Nannochlorois oculata",
            "Growth": -0.03,
            "Lux": 2500,
            "Temperature": 5
           },
           {
            "Algae": "Nannochlorois oculata",
            "Growth": 0.04,
            "Lux": 2500,
            "Temperature": 10
           },
           {
            "Algae": "Nannochlorois oculata",
            "Growth": 0.92,
            "Lux": 2500,
            "Temperature": 25
           },
           {
            "Algae": "Nannochlorois oculata",
            "Growth": 1.14,
            "Lux": 2500,
            "Temperature": 30
           },
           {
            "Algae": "Nannochloris salina",
            "Growth": 0.07,
            "Lux": 2500,
            "Temperature": 5
           },
           {
            "Algae": "Nannochloris salina",
            "Growth": 0.54,
            "Lux": 2500,
            "Temperature": 10
           },
           {
            "Algae": "Nannochloris salina",
            "Growth": -0.34,
            "Lux": 2500,
            "Temperature": 25
           },
           {
            "Algae": "Nannochloris salina",
            "Growth": 0.06,
            "Lux": 2500,
            "Temperature": 30
           },
           {
            "Algae": "Navicula incerta",
            "Growth": 0.2,
            "Lux": 2500,
            "Temperature": 5
           },
           {
            "Algae": "Navicula incerta",
            "Growth": 0.22,
            "Lux": 2500,
            "Temperature": 10
           },
           {
            "Algae": "Navicula incerta",
            "Growth": 0.37,
            "Lux": 2500,
            "Temperature": 25
           },
           {
            "Algae": "Navicula incerta",
            "Growth": 0.35,
            "Lux": 2500,
            "Temperature": 30
           },
           {
            "Algae": "Nitzscia sp.",
            "Growth": 0.12,
            "Lux": 2500,
            "Temperature": 5
           },
           {
            "Algae": "Nitzscia sp.",
            "Growth": 0.23,
            "Lux": 2500,
            "Temperature": 10
           },
           {
            "Algae": "Nitzscia sp.",
            "Growth": 0.29,
            "Lux": 2500,
            "Temperature": 25
           },
           {
            "Algae": "Nitzscia sp.",
            "Growth": 0.4,
            "Lux": 2500,
            "Temperature": 30
           },
           {
            "Algae": "Skeletonema costatum",
            "Growth": 0.34,
            "Lux": 2500,
            "Temperature": 5
           },
           {
            "Algae": "Skeletonema costatum",
            "Growth": 0.61,
            "Lux": 2500,
            "Temperature": 10
           },
           {
            "Algae": "Skeletonema costatum",
            "Growth": 0.67,
            "Lux": 2500,
            "Temperature": 25
           },
           {
            "Algae": "Skeletonema costatum",
            "Growth": 0.43,
            "Lux": 2500,
            "Temperature": 30
           },
           {
            "Algae": "Tetraselmus suecica",
            "Growth": -0.02,
            "Lux": 2500,
            "Temperature": 5
           },
           {
            "Algae": "Tetraselmus suecica",
            "Growth": 0.28,
            "Lux": 2500,
            "Temperature": 10
           },
           {
            "Algae": "Tetraselmus suecica",
            "Growth": 0.44,
            "Lux": 2500,
            "Temperature": 25
           },
           {
            "Algae": "Tetraselmus suecica",
            "Growth": 0.51,
            "Lux": 2500,
            "Temperature": 30
           },
           {
            "Algae": "Thalassiosira fluviatilis",
            "Growth": 0.06,
            "Lux": 2500,
            "Temperature": 5
           },
           {
            "Algae": "Thalassiosira fluviatilis",
            "Growth": 0.11,
            "Lux": 2500,
            "Temperature": 10
           },
           {
            "Algae": "Thalassiosira fluviatilis",
            "Growth": 0.1,
            "Lux": 2500,
            "Temperature": 25
           },
           {
            "Algae": "Thalassiosira fluviatilis",
            "Growth": 0.23,
            "Lux": 2500,
            "Temperature": 30
           },
           {
            "Algae": "Thalassiosira sp.",
            "Growth": -0.17,
            "Lux": 2500,
            "Temperature": 5
           },
           {
            "Algae": "Thalassiosira sp.",
            "Growth": -0.12,
            "Lux": 2500,
            "Temperature": 10
           },
           {
            "Algae": "Thalassiosira sp.",
            "Growth": 0.15,
            "Lux": 2500,
            "Temperature": 25
           },
           {
            "Algae": "Thalassiosira sp.",
            "Growth": 0.41,
            "Lux": 2500,
            "Temperature": 30
           }
          ]
         },
         "encoding": {
          "color": {
           "field": "Algae",
           "type": "nominal"
          },
          "size": {
           "condition": {
            "selection": {
             "not": "selector024"
            },
            "value": 1
           },
           "value": 3
          },
          "tooltip": [
           {
            "field": "Algae",
            "type": "nominal"
           },
           {
            "field": "Temperature",
            "type": "quantitative"
           },
           {
            "field": "Lux",
            "type": "quantitative"
           },
           {
            "field": "Growth",
            "type": "quantitative"
           }
          ],
          "x": {
           "field": "Temperature",
           "type": "quantitative"
          },
          "y": {
           "field": "Growth",
           "type": "quantitative"
          }
         },
         "mark": "line"
        }
       ]
      },
      "image/png": "[encoded data removed]",
      "text/plain": [
       "<VegaLite 2 object>\n",
       "\n",
       "If you see this message, it means the renderer has not been properly enabled\n",
       "for the frontend that you are using. For more information, see\n",
       "https://altair-viz.github.io/user_guide/troubleshooting.html\n"
      ]
     },
     "execution_count": 85,
     "metadata": {},
     "output_type": "execute_result"
    }
   ],
   "source": [
    "highlight = alt.selection(type='single', on='mouseover',\n",
    "                         fields=['Algae'], nearest=True)\n",
    "\n",
    "base = alt.Chart(df_jan[df_jan['Lux'] == 2500]).encode(\n",
    "    x = 'Temperature',\n",
    "    y = 'Growth',\n",
    "    color = 'Algae',\n",
    "    tooltip=['Algae',\n",
    "         'Temperature',\n",
    "         'Lux',\n",
    "         'Growth',\n",
    "         ],\n",
    ")\n",
    "\n",
    "points = base.mark_square().encode(\n",
    "    opacity=alt.value(0.3)\n",
    ").add_selection(\n",
    "    highlight\n",
    ").properties(\n",
    "    width=300\n",
    ")\n",
    "\n",
    "lines = base.mark_line().encode(\n",
    "    size=alt.condition(~highlight, alt.value(1), alt.value(3))\n",
    ")\n",
    "\n",
    "points + lines"
   ]
  },
  {
   "cell_type": "markdown",
   "metadata": {},
   "source": [
    "**Create a Multi-Line Highlight Chart with an Improved Tooltip**"
   ]
  },
  {
   "cell_type": "code",
   "execution_count": 69,
   "metadata": {},
   "outputs": [
    {
     "data": {
      "application/vnd.vegalite.v2+json": {
       "$schema": "https://vega.github.io/schema/vega-lite/v2.4.3.json",
       "config": {
        "view": {
         "height": 300,
         "width": 400
        }
       },
       "data": {
        "values": [
         {
          "Algae": "Caloneis schroderi",
          "Growth": -0.5,
          "Lux": 2500,
          "Temperature": 5
         },
         {
          "Algae": "Caloneis schroderi",
          "Growth": 0.25,
          "Lux": 2500,
          "Temperature": 10
         },
         {
          "Algae": "Caloneis schroderi",
          "Growth": 0.3,
          "Lux": 2500,
          "Temperature": 25
         },
         {
          "Algae": "Caloneis schroderi",
          "Growth": 0.29,
          "Lux": 2500,
          "Temperature": 30
         },
         {
          "Algae": "Chaetoceros gracilis",
          "Growth": -0.05,
          "Lux": 2500,
          "Temperature": 5
         },
         {
          "Algae": "Chaetoceros gracilis",
          "Growth": 0.07,
          "Lux": 2500,
          "Temperature": 10
         },
         {
          "Algae": "Chaetoceros gracilis",
          "Growth": 0.39,
          "Lux": 2500,
          "Temperature": 25
         },
         {
          "Algae": "Chaetoceros gracilis",
          "Growth": 0.73,
          "Lux": 2500,
          "Temperature": 30
         },
         {
          "Algae": "Chaetoceros simplex",
          "Growth": -0.01,
          "Lux": 2500,
          "Temperature": 5
         },
         {
          "Algae": "Chaetoceros simplex",
          "Growth": 0.55,
          "Lux": 2500,
          "Temperature": 10
         },
         {
          "Algae": "Chaetoceros simplex",
          "Growth": 0.52,
          "Lux": 2500,
          "Temperature": 25
         },
         {
          "Algae": "Chaetoceros simplex",
          "Growth": 0.63,
          "Lux": 2500,
          "Temperature": 30
         },
         {
          "Algae": "Chlorella ellipsoidea",
          "Growth": 0.02,
          "Lux": 2500,
          "Temperature": 5
         },
         {
          "Algae": "Chlorella ellipsoidea",
          "Growth": 0.53,
          "Lux": 2500,
          "Temperature": 10
         },
         {
          "Algae": "Chlorella ellipsoidea",
          "Growth": 0.85,
          "Lux": 2500,
          "Temperature": 25
         },
         {
          "Algae": "Chlorella ellipsoidea",
          "Growth": 0.94,
          "Lux": 2500,
          "Temperature": 30
         },
         {
          "Algae": "Chlorella stigmatophora",
          "Growth": 0.24,
          "Lux": 2500,
          "Temperature": 5
         },
         {
          "Algae": "Chlorella stigmatophora",
          "Growth": 0.24,
          "Lux": 2500,
          "Temperature": 10
         },
         {
          "Algae": "Chlorella stigmatophora",
          "Growth": 0.56,
          "Lux": 2500,
          "Temperature": 25
         },
         {
          "Algae": "Chlorella stigmatophora",
          "Growth": 0.39,
          "Lux": 2500,
          "Temperature": 30
         },
         {
          "Algae": "Chlorella vulgaris (freshwater)",
          "Growth": 0,
          "Lux": 2500,
          "Temperature": 5
         },
         {
          "Algae": "Chlorella vulgaris (freshwater)",
          "Growth": 0.17,
          "Lux": 2500,
          "Temperature": 10
         },
         {
          "Algae": "Chlorella vulgaris (freshwater)",
          "Growth": 0.67,
          "Lux": 2500,
          "Temperature": 25
         },
         {
          "Algae": "Chlorella vulgaris (freshwater)",
          "Growth": -0.2,
          "Lux": 2500,
          "Temperature": 30
         },
         {
          "Algae": "Dunaniella tertiolecta",
          "Growth": 0.17,
          "Lux": 2500,
          "Temperature": 5
         },
         {
          "Algae": "Dunaniella tertiolecta",
          "Growth": 0.42,
          "Lux": 2500,
          "Temperature": 10
         },
         {
          "Algae": "Dunaniella tertiolecta",
          "Growth": 0.64,
          "Lux": 2500,
          "Temperature": 25
         },
         {
          "Algae": "Dunaniella tertiolecta",
          "Growth": 0.45,
          "Lux": 2500,
          "Temperature": 30
         },
         {
          "Algae": "Cyclotella sp. NUFP-9",
          "Growth": 0.08,
          "Lux": 2500,
          "Temperature": 5
         },
         {
          "Algae": "Cyclotella sp. NUFP-9",
          "Growth": -0.1,
          "Lux": 2500,
          "Temperature": 10
         },
         {
          "Algae": "Cyclotella sp. NUFP-9",
          "Growth": 0,
          "Lux": 2500,
          "Temperature": 25
         },
         {
          "Algae": "Cyclotella sp. NUFP-9",
          "Growth": -0.19,
          "Lux": 2500,
          "Temperature": 30
         },
         {
          "Algae": "Hanzchia marina",
          "Growth": -0.07,
          "Lux": 2500,
          "Temperature": 5
         },
         {
          "Algae": "Hanzchia marina",
          "Growth": -0.21,
          "Lux": 2500,
          "Temperature": 10
         },
         {
          "Algae": "Hanzchia marina",
          "Growth": 0.15,
          "Lux": 2500,
          "Temperature": 25
         },
         {
          "Algae": "Hanzchia marina",
          "Growth": 0.06,
          "Lux": 2500,
          "Temperature": 30
         },
         {
          "Algae": "Isochrysis galbana",
          "Growth": -0.07,
          "Lux": 2500,
          "Temperature": 5
         },
         {
          "Algae": "Isochrysis galbana",
          "Growth": 0.25,
          "Lux": 2500,
          "Temperature": 10
         },
         {
          "Algae": "Isochrysis galbana",
          "Growth": 0.55,
          "Lux": 2500,
          "Temperature": 25
         },
         {
          "Algae": "Isochrysis galbana",
          "Growth": 0.51,
          "Lux": 2500,
          "Temperature": 30
         },
         {
          "Algae": "Isochrysis aff. galbana",
          "Growth": -0.67,
          "Lux": 2500,
          "Temperature": 5
         },
         {
          "Algae": "Isochrysis aff. galbana",
          "Growth": -0.14,
          "Lux": 2500,
          "Temperature": 10
         },
         {
          "Algae": "Isochrysis aff. galbana",
          "Growth": 0.81,
          "Lux": 2500,
          "Temperature": 25
         },
         {
          "Algae": "Isochrysis aff. galbana",
          "Growth": 0.74,
          "Lux": 2500,
          "Temperature": 30
         },
         {
          "Algae": "Nannochlorois oculata",
          "Growth": -0.03,
          "Lux": 2500,
          "Temperature": 5
         },
         {
          "Algae": "Nannochlorois oculata",
          "Growth": 0.04,
          "Lux": 2500,
          "Temperature": 10
         },
         {
          "Algae": "Nannochlorois oculata",
          "Growth": 0.92,
          "Lux": 2500,
          "Temperature": 25
         },
         {
          "Algae": "Nannochlorois oculata",
          "Growth": 1.14,
          "Lux": 2500,
          "Temperature": 30
         },
         {
          "Algae": "Nannochloris salina",
          "Growth": 0.07,
          "Lux": 2500,
          "Temperature": 5
         },
         {
          "Algae": "Nannochloris salina",
          "Growth": 0.54,
          "Lux": 2500,
          "Temperature": 10
         },
         {
          "Algae": "Nannochloris salina",
          "Growth": -0.34,
          "Lux": 2500,
          "Temperature": 25
         },
         {
          "Algae": "Nannochloris salina",
          "Growth": 0.06,
          "Lux": 2500,
          "Temperature": 30
         },
         {
          "Algae": "Navicula incerta",
          "Growth": 0.2,
          "Lux": 2500,
          "Temperature": 5
         },
         {
          "Algae": "Navicula incerta",
          "Growth": 0.22,
          "Lux": 2500,
          "Temperature": 10
         },
         {
          "Algae": "Navicula incerta",
          "Growth": 0.37,
          "Lux": 2500,
          "Temperature": 25
         },
         {
          "Algae": "Navicula incerta",
          "Growth": 0.35,
          "Lux": 2500,
          "Temperature": 30
         },
         {
          "Algae": "Nitzscia sp.",
          "Growth": 0.12,
          "Lux": 2500,
          "Temperature": 5
         },
         {
          "Algae": "Nitzscia sp.",
          "Growth": 0.23,
          "Lux": 2500,
          "Temperature": 10
         },
         {
          "Algae": "Nitzscia sp.",
          "Growth": 0.29,
          "Lux": 2500,
          "Temperature": 25
         },
         {
          "Algae": "Nitzscia sp.",
          "Growth": 0.4,
          "Lux": 2500,
          "Temperature": 30
         },
         {
          "Algae": "Skeletonema costatum",
          "Growth": 0.34,
          "Lux": 2500,
          "Temperature": 5
         },
         {
          "Algae": "Skeletonema costatum",
          "Growth": 0.61,
          "Lux": 2500,
          "Temperature": 10
         },
         {
          "Algae": "Skeletonema costatum",
          "Growth": 0.67,
          "Lux": 2500,
          "Temperature": 25
         },
         {
          "Algae": "Skeletonema costatum",
          "Growth": 0.43,
          "Lux": 2500,
          "Temperature": 30
         },
         {
          "Algae": "Tetraselmus suecica",
          "Growth": -0.02,
          "Lux": 2500,
          "Temperature": 5
         },
         {
          "Algae": "Tetraselmus suecica",
          "Growth": 0.28,
          "Lux": 2500,
          "Temperature": 10
         },
         {
          "Algae": "Tetraselmus suecica",
          "Growth": 0.44,
          "Lux": 2500,
          "Temperature": 25
         },
         {
          "Algae": "Tetraselmus suecica",
          "Growth": 0.51,
          "Lux": 2500,
          "Temperature": 30
         },
         {
          "Algae": "Thalassiosira fluviatilis",
          "Growth": 0.06,
          "Lux": 2500,
          "Temperature": 5
         },
         {
          "Algae": "Thalassiosira fluviatilis",
          "Growth": 0.11,
          "Lux": 2500,
          "Temperature": 10
         },
         {
          "Algae": "Thalassiosira fluviatilis",
          "Growth": 0.1,
          "Lux": 2500,
          "Temperature": 25
         },
         {
          "Algae": "Thalassiosira fluviatilis",
          "Growth": 0.23,
          "Lux": 2500,
          "Temperature": 30
         },
         {
          "Algae": "Thalassiosira sp.",
          "Growth": -0.17,
          "Lux": 2500,
          "Temperature": 5
         },
         {
          "Algae": "Thalassiosira sp.",
          "Growth": -0.12,
          "Lux": 2500,
          "Temperature": 10
         },
         {
          "Algae": "Thalassiosira sp.",
          "Growth": 0.15,
          "Lux": 2500,
          "Temperature": 25
         },
         {
          "Algae": "Thalassiosira sp.",
          "Growth": 0.41,
          "Lux": 2500,
          "Temperature": 30
         }
        ]
       },
       "height": 300,
       "layer": [
        {
         "encoding": {
          "color": {
           "field": "Algae",
           "type": "nominal"
          },
          "x": {
           "field": "Temperature",
           "type": "quantitative"
          },
          "y": {
           "field": "Growth",
           "type": "quantitative"
          }
         },
         "mark": {
          "interpolate": "basis",
          "type": "line"
         }
        },
        {
         "encoding": {
          "opacity": {
           "value": 0
          },
          "x": {
           "field": "Temperature",
           "type": "quantitative"
          }
         },
         "mark": "point",
         "selection": {
          "selector008": {
           "empty": "none",
           "fields": [
            "Algae"
           ],
           "nearest": true,
           "on": "mouseover",
           "resolve": "global",
           "type": "single"
          }
         }
        },
        {
         "encoding": {
          "color": {
           "field": "Algae",
           "type": "nominal"
          },
          "opacity": {
           "condition": {
            "selection": "selector008",
            "value": 1
           },
           "value": 0
          },
          "x": {
           "field": "Temperature",
           "type": "quantitative"
          },
          "y": {
           "field": "Growth",
           "type": "quantitative"
          }
         },
         "mark": "point"
        },
        {
         "encoding": {
          "x": {
           "field": "Temperature",
           "type": "quantitative"
          }
         },
         "mark": {
          "color": "gray",
          "type": "rule"
         },
         "transform": [
          {
           "filter": {
            "selection": "selector008"
           }
          }
         ]
        },
        {
         "encoding": {
          "color": {
           "field": "Algae",
           "type": "nominal"
          },
          "text": {
           "condition": {
            "field": "Growth",
            "selection": "selector008",
            "type": "quantitative"
           },
           "value": " "
          },
          "x": {
           "field": "Temperature",
           "type": "quantitative"
          },
          "y": {
           "field": "Growth",
           "type": "quantitative"
          }
         },
         "mark": {
          "align": "left",
          "dx": 5,
          "dy": -5,
          "type": "text"
         }
        }
       ],
       "width": 600
      },
      "image/png": "[encoded data removed]",
      "text/plain": [
       "<VegaLite 2 object>\n",
       "\n",
       "If you see this message, it means the renderer has not been properly enabled\n",
       "for the frontend that you are using. For more information, see\n",
       "https://altair-viz.github.io/user_guide/troubleshooting.html\n"
      ]
     },
     "execution_count": 69,
     "metadata": {},
     "output_type": "execute_result"
    }
   ],
   "source": [
    "# Create a selection that chooses the nearest point & selects based on x-value\n",
    "nearest = alt.selection(type='single', nearest=True, on='mouseover',\n",
    "                        fields=['Algae'], empty='none')\n",
    "\n",
    "# The basic line\n",
    "line = alt.Chart().mark_line(\n",
    "    interpolate='basis').encode(\n",
    "        x='Temperature:Q',\n",
    "        y='Growth:Q',\n",
    "        color='Algae:N',\n",
    "    scale=Scale(domain=[])\n",
    ")\n",
    "\n",
    "# Transparent selectors across the chart. This is what tells us\n",
    "# the x-value of the cursor\n",
    "selectors = alt.Chart().mark_point().encode(\n",
    "    x='Temperature:Q',\n",
    "    opacity=alt.value(0),\n",
    ").add_selection(\n",
    "    nearest\n",
    ")\n",
    "\n",
    "# Draw points on the line, and highlight based on selection\n",
    "points = line.mark_point().encode(\n",
    "    opacity=alt.condition(nearest, alt.value(1), alt.value(0))\n",
    ")\n",
    "\n",
    "# Draw text labels near the points, and highlight based on selection\n",
    "text = line.mark_text(align='left', dx=5, dy=-5).encode(\n",
    "    text=alt.condition(nearest, 'Growth:Q', alt.value(' '))\n",
    ")\n",
    "\n",
    "# Draw a rule at the location of the selection\n",
    "rules = alt.Chart().mark_rule(color='gray').encode(\n",
    "    x='Temperature:Q',\n",
    ").transform_filter(\n",
    "    nearest\n",
    ")\n",
    "\n",
    "# Put the five layers into a chart and bind the data\n",
    "alt.layer(line, selectors, points, rules, text,\n",
    "          data=df_jan[df_jan['Lux'] == 2500], width=600, height=300)"
   ]
  }
 ],
 "metadata": {
  "kernelspec": {
   "display_name": "Python 3",
   "language": "python",
   "name": "python3"
  },
  "language_info": {
   "codemirror_mode": {
    "name": "ipython",
    "version": 3
   },
   "file_extension": ".py",
   "mimetype": "text/x-python",
   "name": "python",
   "nbconvert_exporter": "python",
   "pygments_lexer": "ipython3",
   "version": "3.6.5"
  }
 },
 "nbformat": 4,
 "nbformat_minor": 2
}
